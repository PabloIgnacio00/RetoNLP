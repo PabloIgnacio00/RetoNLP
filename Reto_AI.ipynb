{
 "cells": [
  {
   "cell_type": "markdown",
   "id": "2d8c25e8",
   "metadata": {},
   "source": [
    "# Reto sample"
   ]
  },
  {
   "cell_type": "markdown",
   "id": "85e938a2",
   "metadata": {},
   "source": [
    "### Descriptivo"
   ]
  },
  {
   "cell_type": "code",
   "execution_count": 1,
   "id": "ec004924",
   "metadata": {},
   "outputs": [],
   "source": [
    "import pandas as pd\n",
    "import numpy as np\n",
    "import matplotlib.pyplot as plt"
   ]
  },
  {
   "cell_type": "code",
   "execution_count": 2,
   "id": "f609f165",
   "metadata": {},
   "outputs": [],
   "source": [
    "df = pd.read_csv(\"MDF_US.csv\")"
   ]
  },
  {
   "cell_type": "code",
   "execution_count": 3,
   "id": "a6d8d84b",
   "metadata": {},
   "outputs": [
    {
     "data": {
      "text/html": [
       "<div>\n",
       "<style scoped>\n",
       "    .dataframe tbody tr th:only-of-type {\n",
       "        vertical-align: middle;\n",
       "    }\n",
       "\n",
       "    .dataframe tbody tr th {\n",
       "        vertical-align: top;\n",
       "    }\n",
       "\n",
       "    .dataframe thead th {\n",
       "        text-align: right;\n",
       "    }\n",
       "</style>\n",
       "<table border=\"1\" class=\"dataframe\">\n",
       "  <thead>\n",
       "    <tr style=\"text-align: right;\">\n",
       "      <th></th>\n",
       "      <th>cm_id</th>\n",
       "      <th>claim_id</th>\n",
       "      <th>start_date</th>\n",
       "      <th>end_date</th>\n",
       "      <th>pl</th>\n",
       "      <th>productmodel</th>\n",
       "      <th>partno</th>\n",
       "      <th>totalamount</th>\n",
       "      <th>program_number</th>\n",
       "      <th>program_name</th>\n",
       "      <th>descr</th>\n",
       "      <th>actual_activity</th>\n",
       "      <th>reseller</th>\n",
       "      <th>claim_status</th>\n",
       "      <th>business_type</th>\n",
       "      <th>activity_subtype</th>\n",
       "      <th>activity_subtype_id</th>\n",
       "    </tr>\n",
       "  </thead>\n",
       "  <tbody>\n",
       "    <tr>\n",
       "      <th>0</th>\n",
       "      <td>24281</td>\n",
       "      <td>7901</td>\n",
       "      <td>2020-01-12T00:00:00.000+0000</td>\n",
       "      <td>2020-01-18T00:00:00.000+0000</td>\n",
       "      <td>4H- (7CC47AA)</td>\n",
       "      <td>HP OfficeJet 5255 All-in-One Printer</td>\n",
       "      <td>M2U75A</td>\n",
       "      <td>10000.0</td>\n",
       "      <td>9008</td>\n",
       "      <td>Ad Funds - Inkjet Printers FY'20 H12</td>\n",
       "      <td>MARKET DEVELOPMENT FUNDS</td>\n",
       "      <td>Ad Funding</td>\n",
       "      <td>Best Buy</td>\n",
       "      <td>Approved</td>\n",
       "      <td>HPS HW</td>\n",
       "      <td>Program</td>\n",
       "      <td>Advertising</td>\n",
       "    </tr>\n",
       "    <tr>\n",
       "      <th>1</th>\n",
       "      <td>50220</td>\n",
       "      <td>20134</td>\n",
       "      <td>2022-07-24T00:00:00.000+0000</td>\n",
       "      <td>2022-07-30T00:00:00.000+0000</td>\n",
       "      <td>MS- (544H8A)</td>\n",
       "      <td>HyperXStingerCoreW+7.1HHSS1C-BA-BK/G</td>\n",
       "      <td>4P4F0AA</td>\n",
       "      <td>180.0</td>\n",
       "      <td>HAIS-MC-X00622</td>\n",
       "      <td>Micro Center July Promo 7/3/2022-7/30/2022\\t\\t</td>\n",
       "      <td>undefined</td>\n",
       "      <td>Instant Savings</td>\n",
       "      <td>Microcenter</td>\n",
       "      <td>Pending</td>\n",
       "      <td>HyperX</td>\n",
       "      <td>UNKNOWN</td>\n",
       "      <td>UNKNOWN</td>\n",
       "    </tr>\n",
       "    <tr>\n",
       "      <th>2</th>\n",
       "      <td>24139</td>\n",
       "      <td>7991</td>\n",
       "      <td>2020-01-15T00:00:00.000+0000</td>\n",
       "      <td>2020-01-30T00:00:00.000+0000</td>\n",
       "      <td>IF- (7CD16AA)</td>\n",
       "      <td>HP Sprocket Studio Bundle</td>\n",
       "      <td>8SU11A</td>\n",
       "      <td>3624.0</td>\n",
       "      <td>10113</td>\n",
       "      <td>CP - Add Missed Paper to Studio at NAE</td>\n",
       "      <td>MARKET DEVELOPMENT FUNDS</td>\n",
       "      <td>In-Store Merchandising Enhancement</td>\n",
       "      <td>New Age</td>\n",
       "      <td>Approved</td>\n",
       "      <td>HPS HW</td>\n",
       "      <td>Program</td>\n",
       "      <td>Advertising</td>\n",
       "    </tr>\n",
       "    <tr>\n",
       "      <th>3</th>\n",
       "      <td>48720</td>\n",
       "      <td>19471</td>\n",
       "      <td>2022-05-01T00:00:00.000+0000</td>\n",
       "      <td>2022-05-07T00:00:00.000+0000</td>\n",
       "      <td>MS- (544H8A)</td>\n",
       "      <td>HyperXCloudBluePS5HHSC2-FA-BL</td>\n",
       "      <td>4P5H9AA</td>\n",
       "      <td>913.5</td>\n",
       "      <td>HAIS-TG-X01022</td>\n",
       "      <td>Target May Promo 5/1/2022-6/4/2022</td>\n",
       "      <td>undefined</td>\n",
       "      <td>Instant Savings</td>\n",
       "      <td>Target</td>\n",
       "      <td>Approved</td>\n",
       "      <td>HyperX</td>\n",
       "      <td>UNKNOWN</td>\n",
       "      <td>UNKNOWN</td>\n",
       "    </tr>\n",
       "    <tr>\n",
       "      <th>4</th>\n",
       "      <td>50238</td>\n",
       "      <td>20134</td>\n",
       "      <td>2022-07-03T00:00:00.000+0000</td>\n",
       "      <td>2022-07-09T00:00:00.000+0000</td>\n",
       "      <td>MS- (544H8A)</td>\n",
       "      <td>HyperXCloudXFlightHX-HSCFX-BK/WW</td>\n",
       "      <td>4P5J6AA</td>\n",
       "      <td>40.0</td>\n",
       "      <td>HAIS-MC-X00622</td>\n",
       "      <td>Micro Center July Promo 7/3/2022-7/30/2022\\t\\t</td>\n",
       "      <td>undefined</td>\n",
       "      <td>Instant Savings</td>\n",
       "      <td>Microcenter</td>\n",
       "      <td>Pending</td>\n",
       "      <td>HyperX</td>\n",
       "      <td>UNKNOWN</td>\n",
       "      <td>UNKNOWN</td>\n",
       "    </tr>\n",
       "  </tbody>\n",
       "</table>\n",
       "</div>"
      ],
      "text/plain": [
       "   cm_id  claim_id                    start_date  \\\n",
       "0  24281      7901  2020-01-12T00:00:00.000+0000   \n",
       "1  50220     20134  2022-07-24T00:00:00.000+0000   \n",
       "2  24139      7991  2020-01-15T00:00:00.000+0000   \n",
       "3  48720     19471  2022-05-01T00:00:00.000+0000   \n",
       "4  50238     20134  2022-07-03T00:00:00.000+0000   \n",
       "\n",
       "                       end_date             pl  \\\n",
       "0  2020-01-18T00:00:00.000+0000  4H- (7CC47AA)   \n",
       "1  2022-07-30T00:00:00.000+0000   MS- (544H8A)   \n",
       "2  2020-01-30T00:00:00.000+0000  IF- (7CD16AA)   \n",
       "3  2022-05-07T00:00:00.000+0000   MS- (544H8A)   \n",
       "4  2022-07-09T00:00:00.000+0000   MS- (544H8A)   \n",
       "\n",
       "                           productmodel   partno  totalamount  program_number  \\\n",
       "0  HP OfficeJet 5255 All-in-One Printer   M2U75A      10000.0            9008   \n",
       "1  HyperXStingerCoreW+7.1HHSS1C-BA-BK/G  4P4F0AA        180.0  HAIS-MC-X00622   \n",
       "2             HP Sprocket Studio Bundle   8SU11A       3624.0           10113   \n",
       "3         HyperXCloudBluePS5HHSC2-FA-BL  4P5H9AA        913.5  HAIS-TG-X01022   \n",
       "4      HyperXCloudXFlightHX-HSCFX-BK/WW  4P5J6AA         40.0  HAIS-MC-X00622   \n",
       "\n",
       "                                     program_name                     descr  \\\n",
       "0            Ad Funds - Inkjet Printers FY'20 H12  MARKET DEVELOPMENT FUNDS   \n",
       "1  Micro Center July Promo 7/3/2022-7/30/2022\\t\\t                 undefined   \n",
       "2          CP - Add Missed Paper to Studio at NAE  MARKET DEVELOPMENT FUNDS   \n",
       "3              Target May Promo 5/1/2022-6/4/2022                 undefined   \n",
       "4  Micro Center July Promo 7/3/2022-7/30/2022\\t\\t                 undefined   \n",
       "\n",
       "                      actual_activity     reseller claim_status business_type  \\\n",
       "0                          Ad Funding     Best Buy     Approved        HPS HW   \n",
       "1                     Instant Savings  Microcenter      Pending        HyperX   \n",
       "2  In-Store Merchandising Enhancement      New Age     Approved        HPS HW   \n",
       "3                     Instant Savings       Target     Approved        HyperX   \n",
       "4                     Instant Savings  Microcenter      Pending        HyperX   \n",
       "\n",
       "  activity_subtype activity_subtype_id  \n",
       "0          Program         Advertising  \n",
       "1          UNKNOWN             UNKNOWN  \n",
       "2          Program         Advertising  \n",
       "3          UNKNOWN             UNKNOWN  \n",
       "4          UNKNOWN             UNKNOWN  "
      ]
     },
     "execution_count": 3,
     "metadata": {},
     "output_type": "execute_result"
    }
   ],
   "source": [
    "df.head()"
   ]
  },
  {
   "cell_type": "markdown",
   "id": "15eccb89",
   "metadata": {},
   "source": [
    "## Drop columns"
   ]
  },
  {
   "cell_type": "code",
   "execution_count": 4,
   "id": "6029feee",
   "metadata": {},
   "outputs": [],
   "source": [
    "df.drop(labels=[\"start_date\", \"end_date\"], axis=1, inplace=True)"
   ]
  },
  {
   "cell_type": "code",
   "execution_count": 5,
   "id": "f43151bb",
   "metadata": {
    "scrolled": true
   },
   "outputs": [
    {
     "data": {
      "text/html": [
       "<div>\n",
       "<style scoped>\n",
       "    .dataframe tbody tr th:only-of-type {\n",
       "        vertical-align: middle;\n",
       "    }\n",
       "\n",
       "    .dataframe tbody tr th {\n",
       "        vertical-align: top;\n",
       "    }\n",
       "\n",
       "    .dataframe thead th {\n",
       "        text-align: right;\n",
       "    }\n",
       "</style>\n",
       "<table border=\"1\" class=\"dataframe\">\n",
       "  <thead>\n",
       "    <tr style=\"text-align: right;\">\n",
       "      <th></th>\n",
       "      <th>cm_id</th>\n",
       "      <th>claim_id</th>\n",
       "      <th>pl</th>\n",
       "      <th>productmodel</th>\n",
       "      <th>partno</th>\n",
       "      <th>totalamount</th>\n",
       "      <th>program_number</th>\n",
       "      <th>program_name</th>\n",
       "      <th>descr</th>\n",
       "      <th>actual_activity</th>\n",
       "      <th>reseller</th>\n",
       "      <th>claim_status</th>\n",
       "      <th>business_type</th>\n",
       "      <th>activity_subtype</th>\n",
       "      <th>activity_subtype_id</th>\n",
       "    </tr>\n",
       "  </thead>\n",
       "  <tbody>\n",
       "    <tr>\n",
       "      <th>0</th>\n",
       "      <td>24281</td>\n",
       "      <td>7901</td>\n",
       "      <td>4H- (7CC47AA)</td>\n",
       "      <td>HP OfficeJet 5255 All-in-One Printer</td>\n",
       "      <td>M2U75A</td>\n",
       "      <td>10000.0</td>\n",
       "      <td>9008</td>\n",
       "      <td>Ad Funds - Inkjet Printers FY'20 H12</td>\n",
       "      <td>MARKET DEVELOPMENT FUNDS</td>\n",
       "      <td>Ad Funding</td>\n",
       "      <td>Best Buy</td>\n",
       "      <td>Approved</td>\n",
       "      <td>HPS HW</td>\n",
       "      <td>Program</td>\n",
       "      <td>Advertising</td>\n",
       "    </tr>\n",
       "    <tr>\n",
       "      <th>1</th>\n",
       "      <td>50220</td>\n",
       "      <td>20134</td>\n",
       "      <td>MS- (544H8A)</td>\n",
       "      <td>HyperXStingerCoreW+7.1HHSS1C-BA-BK/G</td>\n",
       "      <td>4P4F0AA</td>\n",
       "      <td>180.0</td>\n",
       "      <td>HAIS-MC-X00622</td>\n",
       "      <td>Micro Center July Promo 7/3/2022-7/30/2022\\t\\t</td>\n",
       "      <td>undefined</td>\n",
       "      <td>Instant Savings</td>\n",
       "      <td>Microcenter</td>\n",
       "      <td>Pending</td>\n",
       "      <td>HyperX</td>\n",
       "      <td>UNKNOWN</td>\n",
       "      <td>UNKNOWN</td>\n",
       "    </tr>\n",
       "    <tr>\n",
       "      <th>2</th>\n",
       "      <td>24139</td>\n",
       "      <td>7991</td>\n",
       "      <td>IF- (7CD16AA)</td>\n",
       "      <td>HP Sprocket Studio Bundle</td>\n",
       "      <td>8SU11A</td>\n",
       "      <td>3624.0</td>\n",
       "      <td>10113</td>\n",
       "      <td>CP - Add Missed Paper to Studio at NAE</td>\n",
       "      <td>MARKET DEVELOPMENT FUNDS</td>\n",
       "      <td>In-Store Merchandising Enhancement</td>\n",
       "      <td>New Age</td>\n",
       "      <td>Approved</td>\n",
       "      <td>HPS HW</td>\n",
       "      <td>Program</td>\n",
       "      <td>Advertising</td>\n",
       "    </tr>\n",
       "    <tr>\n",
       "      <th>3</th>\n",
       "      <td>48720</td>\n",
       "      <td>19471</td>\n",
       "      <td>MS- (544H8A)</td>\n",
       "      <td>HyperXCloudBluePS5HHSC2-FA-BL</td>\n",
       "      <td>4P5H9AA</td>\n",
       "      <td>913.5</td>\n",
       "      <td>HAIS-TG-X01022</td>\n",
       "      <td>Target May Promo 5/1/2022-6/4/2022</td>\n",
       "      <td>undefined</td>\n",
       "      <td>Instant Savings</td>\n",
       "      <td>Target</td>\n",
       "      <td>Approved</td>\n",
       "      <td>HyperX</td>\n",
       "      <td>UNKNOWN</td>\n",
       "      <td>UNKNOWN</td>\n",
       "    </tr>\n",
       "    <tr>\n",
       "      <th>4</th>\n",
       "      <td>50238</td>\n",
       "      <td>20134</td>\n",
       "      <td>MS- (544H8A)</td>\n",
       "      <td>HyperXCloudXFlightHX-HSCFX-BK/WW</td>\n",
       "      <td>4P5J6AA</td>\n",
       "      <td>40.0</td>\n",
       "      <td>HAIS-MC-X00622</td>\n",
       "      <td>Micro Center July Promo 7/3/2022-7/30/2022\\t\\t</td>\n",
       "      <td>undefined</td>\n",
       "      <td>Instant Savings</td>\n",
       "      <td>Microcenter</td>\n",
       "      <td>Pending</td>\n",
       "      <td>HyperX</td>\n",
       "      <td>UNKNOWN</td>\n",
       "      <td>UNKNOWN</td>\n",
       "    </tr>\n",
       "  </tbody>\n",
       "</table>\n",
       "</div>"
      ],
      "text/plain": [
       "   cm_id  claim_id             pl                          productmodel  \\\n",
       "0  24281      7901  4H- (7CC47AA)  HP OfficeJet 5255 All-in-One Printer   \n",
       "1  50220     20134   MS- (544H8A)  HyperXStingerCoreW+7.1HHSS1C-BA-BK/G   \n",
       "2  24139      7991  IF- (7CD16AA)             HP Sprocket Studio Bundle   \n",
       "3  48720     19471   MS- (544H8A)         HyperXCloudBluePS5HHSC2-FA-BL   \n",
       "4  50238     20134   MS- (544H8A)      HyperXCloudXFlightHX-HSCFX-BK/WW   \n",
       "\n",
       "    partno  totalamount  program_number  \\\n",
       "0   M2U75A      10000.0            9008   \n",
       "1  4P4F0AA        180.0  HAIS-MC-X00622   \n",
       "2   8SU11A       3624.0           10113   \n",
       "3  4P5H9AA        913.5  HAIS-TG-X01022   \n",
       "4  4P5J6AA         40.0  HAIS-MC-X00622   \n",
       "\n",
       "                                     program_name                     descr  \\\n",
       "0            Ad Funds - Inkjet Printers FY'20 H12  MARKET DEVELOPMENT FUNDS   \n",
       "1  Micro Center July Promo 7/3/2022-7/30/2022\\t\\t                 undefined   \n",
       "2          CP - Add Missed Paper to Studio at NAE  MARKET DEVELOPMENT FUNDS   \n",
       "3              Target May Promo 5/1/2022-6/4/2022                 undefined   \n",
       "4  Micro Center July Promo 7/3/2022-7/30/2022\\t\\t                 undefined   \n",
       "\n",
       "                      actual_activity     reseller claim_status business_type  \\\n",
       "0                          Ad Funding     Best Buy     Approved        HPS HW   \n",
       "1                     Instant Savings  Microcenter      Pending        HyperX   \n",
       "2  In-Store Merchandising Enhancement      New Age     Approved        HPS HW   \n",
       "3                     Instant Savings       Target     Approved        HyperX   \n",
       "4                     Instant Savings  Microcenter      Pending        HyperX   \n",
       "\n",
       "  activity_subtype activity_subtype_id  \n",
       "0          Program         Advertising  \n",
       "1          UNKNOWN             UNKNOWN  \n",
       "2          Program         Advertising  \n",
       "3          UNKNOWN             UNKNOWN  \n",
       "4          UNKNOWN             UNKNOWN  "
      ]
     },
     "execution_count": 5,
     "metadata": {},
     "output_type": "execute_result"
    }
   ],
   "source": [
    "df.head()"
   ]
  },
  {
   "cell_type": "markdown",
   "id": "bed5f125",
   "metadata": {},
   "source": [
    "## Separate unknowns and null from our training set"
   ]
  },
  {
   "cell_type": "code",
   "execution_count": 6,
   "id": "1f2fa497",
   "metadata": {},
   "outputs": [],
   "source": [
    "mask_unknown = (df[\"activity_subtype\"] == \"UNKNOWN\") | (df[\"activity_subtype\"].isna())"
   ]
  },
  {
   "cell_type": "code",
   "execution_count": 7,
   "id": "e7beb449",
   "metadata": {},
   "outputs": [],
   "source": [
    "df_pred = df[mask_unknown] # The dataset with UNKNOWNS or null values. We will try to predict these in the end\n",
    "df = df[~mask_unknown] # The dataset without these values. We will be using this one for the training."
   ]
  },
  {
   "cell_type": "code",
   "execution_count": 8,
   "id": "11f5b5c7",
   "metadata": {},
   "outputs": [
    {
     "data": {
      "text/plain": [
       "(3762, 15)"
      ]
     },
     "execution_count": 8,
     "metadata": {},
     "output_type": "execute_result"
    }
   ],
   "source": [
    "df.shape # The shape of our new dataset."
   ]
  },
  {
   "cell_type": "markdown",
   "id": "891a0287",
   "metadata": {},
   "source": [
    "## Data exploration"
   ]
  },
  {
   "cell_type": "code",
   "execution_count": 9,
   "id": "780a5def",
   "metadata": {},
   "outputs": [
    {
     "data": {
      "text/html": [
       "<div>\n",
       "<style scoped>\n",
       "    .dataframe tbody tr th:only-of-type {\n",
       "        vertical-align: middle;\n",
       "    }\n",
       "\n",
       "    .dataframe tbody tr th {\n",
       "        vertical-align: top;\n",
       "    }\n",
       "\n",
       "    .dataframe thead th {\n",
       "        text-align: right;\n",
       "    }\n",
       "</style>\n",
       "<table border=\"1\" class=\"dataframe\">\n",
       "  <thead>\n",
       "    <tr style=\"text-align: right;\">\n",
       "      <th></th>\n",
       "      <th>cm_id</th>\n",
       "      <th>claim_id</th>\n",
       "      <th>totalamount</th>\n",
       "    </tr>\n",
       "  </thead>\n",
       "  <tbody>\n",
       "    <tr>\n",
       "      <th>count</th>\n",
       "      <td>3762.000000</td>\n",
       "      <td>3762.000000</td>\n",
       "      <td>3.762000e+03</td>\n",
       "    </tr>\n",
       "    <tr>\n",
       "      <th>mean</th>\n",
       "      <td>40893.980861</td>\n",
       "      <td>15430.855130</td>\n",
       "      <td>5.715417e+04</td>\n",
       "    </tr>\n",
       "    <tr>\n",
       "      <th>std</th>\n",
       "      <td>11959.971430</td>\n",
       "      <td>5397.084816</td>\n",
       "      <td>1.536897e+05</td>\n",
       "    </tr>\n",
       "    <tr>\n",
       "      <th>min</th>\n",
       "      <td>22233.000000</td>\n",
       "      <td>7540.000000</td>\n",
       "      <td>-1.329640e+03</td>\n",
       "    </tr>\n",
       "    <tr>\n",
       "      <th>25%</th>\n",
       "      <td>29289.250000</td>\n",
       "      <td>8853.500000</td>\n",
       "      <td>2.215330e+03</td>\n",
       "    </tr>\n",
       "    <tr>\n",
       "      <th>50%</th>\n",
       "      <td>41116.500000</td>\n",
       "      <td>15479.000000</td>\n",
       "      <td>1.250000e+04</td>\n",
       "    </tr>\n",
       "    <tr>\n",
       "      <th>75%</th>\n",
       "      <td>51043.250000</td>\n",
       "      <td>20405.500000</td>\n",
       "      <td>4.756950e+04</td>\n",
       "    </tr>\n",
       "    <tr>\n",
       "      <th>max</th>\n",
       "      <td>61673.000000</td>\n",
       "      <td>24006.000000</td>\n",
       "      <td>2.708592e+06</td>\n",
       "    </tr>\n",
       "  </tbody>\n",
       "</table>\n",
       "</div>"
      ],
      "text/plain": [
       "              cm_id      claim_id   totalamount\n",
       "count   3762.000000   3762.000000  3.762000e+03\n",
       "mean   40893.980861  15430.855130  5.715417e+04\n",
       "std    11959.971430   5397.084816  1.536897e+05\n",
       "min    22233.000000   7540.000000 -1.329640e+03\n",
       "25%    29289.250000   8853.500000  2.215330e+03\n",
       "50%    41116.500000  15479.000000  1.250000e+04\n",
       "75%    51043.250000  20405.500000  4.756950e+04\n",
       "max    61673.000000  24006.000000  2.708592e+06"
      ]
     },
     "execution_count": 9,
     "metadata": {},
     "output_type": "execute_result"
    }
   ],
   "source": [
    "df.describe()"
   ]
  },
  {
   "cell_type": "code",
   "execution_count": 10,
   "id": "e86d55b9",
   "metadata": {},
   "outputs": [
    {
     "data": {
      "text/plain": [
       "9"
      ]
     },
     "execution_count": 10,
     "metadata": {},
     "output_type": "execute_result"
    }
   ],
   "source": [
    "df[\"activity_subtype\"].unique().size"
   ]
  },
  {
   "cell_type": "code",
   "execution_count": 11,
   "id": "51960b86",
   "metadata": {},
   "outputs": [],
   "source": [
    "df_cat = df.groupby(\"activity_subtype\")"
   ]
  },
  {
   "cell_type": "code",
   "execution_count": 12,
   "id": "bdbb16d1",
   "metadata": {},
   "outputs": [
    {
     "data": {
      "text/plain": [
       "activity_subtype\n",
       "BTB             51\n",
       "BTS            115\n",
       "Digital         54\n",
       "Display        339\n",
       "Email          125\n",
       "Holiday        247\n",
       "Program       2435\n",
       "Search         344\n",
       "Trad_media      52\n",
       "Name: cm_id, dtype: int64"
      ]
     },
     "execution_count": 12,
     "metadata": {},
     "output_type": "execute_result"
    }
   ],
   "source": [
    "df_bar = df.groupby(\"activity_subtype\").count()\n",
    "df_bar[\"cm_id\"]"
   ]
  },
  {
   "cell_type": "markdown",
   "id": "a4a0f44d",
   "metadata": {},
   "source": [
    "## Bar plot"
   ]
  },
  {
   "cell_type": "code",
   "execution_count": 13,
   "id": "017c71da",
   "metadata": {},
   "outputs": [
    {
     "data": {
      "text/plain": [
       "<BarContainer object of 9 artists>"
      ]
     },
     "execution_count": 13,
     "metadata": {},
     "output_type": "execute_result"
    },
    {
     "data": {
      "image/png": "[encoded data removed]",
      "text/plain": [
       "<Figure size 432x288 with 1 Axes>"
      ]
     },
     "metadata": {
      "needs_background": "light"
     },
     "output_type": "display_data"
    }
   ],
   "source": [
    "x = df_bar[\"cm_id\"]\n",
    "labels = x.index\n",
    "plt.bar(labels, x)"
   ]
  },
  {
   "cell_type": "code",
   "execution_count": 14,
   "id": "478a7682",
   "metadata": {},
   "outputs": [
    {
     "data": {
      "text/plain": [
       "Index(['BTB', 'BTS', 'Digital', 'Display', 'Email', 'Holiday', 'Program',\n",
       "       'Search', 'Trad_media'],\n",
       "      dtype='object', name='activity_subtype')"
      ]
     },
     "execution_count": 14,
     "metadata": {},
     "output_type": "execute_result"
    }
   ],
   "source": [
    "labels"
   ]
  },
  {
   "cell_type": "markdown",
   "id": "99c9cdea",
   "metadata": {},
   "source": [
    "## Holiday"
   ]
  },
  {
   "cell_type": "code",
   "execution_count": 15,
   "id": "779faadb",
   "metadata": {},
   "outputs": [
    {
     "data": {
      "text/html": [
       "<div>\n",
       "<style scoped>\n",
       "    .dataframe tbody tr th:only-of-type {\n",
       "        vertical-align: middle;\n",
       "    }\n",
       "\n",
       "    .dataframe tbody tr th {\n",
       "        vertical-align: top;\n",
       "    }\n",
       "\n",
       "    .dataframe thead th {\n",
       "        text-align: right;\n",
       "    }\n",
       "</style>\n",
       "<table border=\"1\" class=\"dataframe\">\n",
       "  <thead>\n",
       "    <tr style=\"text-align: right;\">\n",
       "      <th></th>\n",
       "      <th>cm_id</th>\n",
       "      <th>claim_id</th>\n",
       "      <th>pl</th>\n",
       "      <th>productmodel</th>\n",
       "      <th>partno</th>\n",
       "      <th>totalamount</th>\n",
       "      <th>program_number</th>\n",
       "      <th>program_name</th>\n",
       "      <th>descr</th>\n",
       "      <th>actual_activity</th>\n",
       "      <th>reseller</th>\n",
       "      <th>claim_status</th>\n",
       "      <th>business_type</th>\n",
       "      <th>activity_subtype</th>\n",
       "      <th>activity_subtype_id</th>\n",
       "    </tr>\n",
       "  </thead>\n",
       "  <tbody>\n",
       "    <tr>\n",
       "      <th>40</th>\n",
       "      <td>56968</td>\n",
       "      <td>22531</td>\n",
       "      <td>1M- (4XM00A)</td>\n",
       "      <td>27-CA0070</td>\n",
       "      <td>318D6AA</td>\n",
       "      <td>2100.00</td>\n",
       "      <td>AAD-DH-D13022</td>\n",
       "      <td>D&amp;H Black Friday DT 2022 Program</td>\n",
       "      <td>undefined</td>\n",
       "      <td>Ad Funding</td>\n",
       "      <td>D&amp;H</td>\n",
       "      <td>Approved</td>\n",
       "      <td>PC</td>\n",
       "      <td>Holiday</td>\n",
       "      <td>Black_Friday</td>\n",
       "    </tr>\n",
       "    <tr>\n",
       "      <th>58</th>\n",
       "      <td>55295</td>\n",
       "      <td>21971</td>\n",
       "      <td>1M- (4XM00A)</td>\n",
       "      <td>GT15-0304</td>\n",
       "      <td>575P7AA</td>\n",
       "      <td>68585.00</td>\n",
       "      <td>AIS-BB-D10922</td>\n",
       "      <td>Best Buy Black Friday Desktop IRs 2022</td>\n",
       "      <td>undefined</td>\n",
       "      <td>Instant Savings</td>\n",
       "      <td>Best Buy</td>\n",
       "      <td>Approved</td>\n",
       "      <td>PC</td>\n",
       "      <td>Holiday</td>\n",
       "      <td>Black_Friday</td>\n",
       "    </tr>\n",
       "    <tr>\n",
       "      <th>92</th>\n",
       "      <td>44843</td>\n",
       "      <td>17271</td>\n",
       "      <td>IR -(7RB50A)</td>\n",
       "      <td>NaN</td>\n",
       "      <td>NaN</td>\n",
       "      <td>7250.00</td>\n",
       "      <td>12011</td>\n",
       "      <td>ASP: HPS EGG Diamond Package</td>\n",
       "      <td>undefined</td>\n",
       "      <td>Ad Funding</td>\n",
       "      <td>Amazon</td>\n",
       "      <td>Approved</td>\n",
       "      <td>HPS HW</td>\n",
       "      <td>Holiday</td>\n",
       "      <td>Holiday</td>\n",
       "    </tr>\n",
       "    <tr>\n",
       "      <th>94</th>\n",
       "      <td>44846</td>\n",
       "      <td>17271</td>\n",
       "      <td>5M- (7CC52AA)</td>\n",
       "      <td>NaN</td>\n",
       "      <td>NaN</td>\n",
       "      <td>28833.33</td>\n",
       "      <td>12011</td>\n",
       "      <td>ASP: HPS EGG Diamond Package</td>\n",
       "      <td>undefined</td>\n",
       "      <td>Ad Funding</td>\n",
       "      <td>Amazon</td>\n",
       "      <td>Approved</td>\n",
       "      <td>HPS HW</td>\n",
       "      <td>Holiday</td>\n",
       "      <td>Holiday</td>\n",
       "    </tr>\n",
       "    <tr>\n",
       "      <th>103</th>\n",
       "      <td>44840</td>\n",
       "      <td>17271</td>\n",
       "      <td>2N- (7CC42AA)</td>\n",
       "      <td>NaN</td>\n",
       "      <td>NaN</td>\n",
       "      <td>18000.00</td>\n",
       "      <td>12011</td>\n",
       "      <td>ASP: HPS EGG Diamond Package</td>\n",
       "      <td>undefined</td>\n",
       "      <td>Ad Funding</td>\n",
       "      <td>Amazon</td>\n",
       "      <td>Approved</td>\n",
       "      <td>HPS HW</td>\n",
       "      <td>Holiday</td>\n",
       "      <td>Holiday</td>\n",
       "    </tr>\n",
       "  </tbody>\n",
       "</table>\n",
       "</div>"
      ],
      "text/plain": [
       "     cm_id  claim_id             pl productmodel   partno  totalamount  \\\n",
       "40   56968     22531   1M- (4XM00A)    27-CA0070  318D6AA      2100.00   \n",
       "58   55295     21971   1M- (4XM00A)    GT15-0304  575P7AA     68585.00   \n",
       "92   44843     17271   IR -(7RB50A)          NaN      NaN      7250.00   \n",
       "94   44846     17271  5M- (7CC52AA)          NaN      NaN     28833.33   \n",
       "103  44840     17271  2N- (7CC42AA)          NaN      NaN     18000.00   \n",
       "\n",
       "    program_number                            program_name      descr  \\\n",
       "40   AAD-DH-D13022        D&H Black Friday DT 2022 Program  undefined   \n",
       "58   AIS-BB-D10922  Best Buy Black Friday Desktop IRs 2022  undefined   \n",
       "92           12011           ASP: HPS EGG Diamond Package   undefined   \n",
       "94           12011           ASP: HPS EGG Diamond Package   undefined   \n",
       "103          12011           ASP: HPS EGG Diamond Package   undefined   \n",
       "\n",
       "     actual_activity  reseller claim_status business_type activity_subtype  \\\n",
       "40        Ad Funding       D&H     Approved            PC          Holiday   \n",
       "58   Instant Savings  Best Buy     Approved            PC          Holiday   \n",
       "92        Ad Funding    Amazon     Approved        HPS HW          Holiday   \n",
       "94        Ad Funding    Amazon     Approved        HPS HW          Holiday   \n",
       "103       Ad Funding    Amazon     Approved        HPS HW          Holiday   \n",
       "\n",
       "    activity_subtype_id  \n",
       "40         Black_Friday  \n",
       "58         Black_Friday  \n",
       "92              Holiday  \n",
       "94              Holiday  \n",
       "103             Holiday  "
      ]
     },
     "execution_count": 15,
     "metadata": {},
     "output_type": "execute_result"
    }
   ],
   "source": [
    "holiday = df[df[\"activity_subtype\"] == \"Holiday\"]\n",
    "holiday.head()"
   ]
  },
  {
   "cell_type": "code",
   "execution_count": 25,
   "id": "4f797d29",
   "metadata": {},
   "outputs": [
    {
     "data": {
      "text/plain": [
       "40            D&H Black Friday DT 2022 Program\n",
       "58      Best Buy Black Friday Desktop IRs 2022\n",
       "92               ASP: HPS EGG Diamond Package \n",
       "94               ASP: HPS EGG Diamond Package \n",
       "103              ASP: HPS EGG Diamond Package \n",
       "                         ...                  \n",
       "7865              ASP: OPS EGG Diamond Package\n",
       "7941       2c'22 New Age/Newegg Gaming/Program\n",
       "7984                    NotebookEOLHoliday2021\n",
       "8066    Best Buy Black Friday Desktop IRs 2022\n",
       "8074             ASP: HPS EGG Diamond Package \n",
       "Name: program_name, Length: 247, dtype: object"
      ]
     },
     "execution_count": 25,
     "metadata": {},
     "output_type": "execute_result"
    }
   ],
   "source": [
    "holiday[\"program_name\"]"
   ]
  },
  {
   "cell_type": "markdown",
   "id": "c6ac85b3",
   "metadata": {},
   "source": [
    "Si el activity subtype es <strong>\"Holiday\"</strong> el activity subtype id solo puede ser <strong>Black Friday</strong> o <strong>Holiday</strong>"
   ]
  },
  {
   "cell_type": "markdown",
   "id": "f3a0f588",
   "metadata": {},
   "source": [
    "## Business type"
   ]
  },
  {
   "cell_type": "code",
   "execution_count": 18,
   "id": "ebacc962",
   "metadata": {
    "scrolled": true
   },
   "outputs": [
    {
     "data": {
      "text/plain": [
       "MultiIndex([('BTB',               'HPS HW'),\n",
       "            ('BTB',               'OPS HW'),\n",
       "            ('BTB',        'Ink and Media'),\n",
       "            ('BTB', 'OPS HW A4 & Scanners'),\n",
       "            ('BTB',            'OPS Toner')],\n",
       "           names=['activity_subtype', 'business_type'])"
      ]
     },
     "execution_count": 18,
     "metadata": {},
     "output_type": "execute_result"
    }
   ],
   "source": [
    "df_cat[\"business_type\"].value_counts().index[:5] # BUSINESS TYPE"
   ]
  },
  {
   "cell_type": "markdown",
   "id": "38b5921f",
   "metadata": {},
   "source": [
    "## BTB"
   ]
  },
  {
   "cell_type": "code",
   "execution_count": 20,
   "id": "b022190a",
   "metadata": {
    "scrolled": true
   },
   "outputs": [
    {
     "data": {
      "text/html": [
       "<div>\n",
       "<style scoped>\n",
       "    .dataframe tbody tr th:only-of-type {\n",
       "        vertical-align: middle;\n",
       "    }\n",
       "\n",
       "    .dataframe tbody tr th {\n",
       "        vertical-align: top;\n",
       "    }\n",
       "\n",
       "    .dataframe thead th {\n",
       "        text-align: right;\n",
       "    }\n",
       "</style>\n",
       "<table border=\"1\" class=\"dataframe\">\n",
       "  <thead>\n",
       "    <tr style=\"text-align: right;\">\n",
       "      <th></th>\n",
       "      <th>cm_id</th>\n",
       "      <th>claim_id</th>\n",
       "      <th>pl</th>\n",
       "      <th>productmodel</th>\n",
       "      <th>partno</th>\n",
       "      <th>totalamount</th>\n",
       "      <th>program_number</th>\n",
       "      <th>program_name</th>\n",
       "      <th>descr</th>\n",
       "      <th>actual_activity</th>\n",
       "      <th>reseller</th>\n",
       "      <th>claim_status</th>\n",
       "      <th>business_type</th>\n",
       "      <th>activity_subtype</th>\n",
       "      <th>activity_subtype_id</th>\n",
       "    </tr>\n",
       "  </thead>\n",
       "  <tbody>\n",
       "    <tr>\n",
       "      <th>64</th>\n",
       "      <td>23510</td>\n",
       "      <td>7831</td>\n",
       "      <td>5M- (7CC52AA)</td>\n",
       "      <td>ENVY 7855 Photo</td>\n",
       "      <td>K7R96A</td>\n",
       "      <td>3570.00</td>\n",
       "      <td>9875</td>\n",
       "      <td>Trade-in Program for BTB</td>\n",
       "      <td>SPECIAL NEGOTIATED DISCOUNT</td>\n",
       "      <td>MIR</td>\n",
       "      <td>Office Depot</td>\n",
       "      <td>Approved</td>\n",
       "      <td>HPS HW</td>\n",
       "      <td>BTB</td>\n",
       "      <td>BTB</td>\n",
       "    </tr>\n",
       "    <tr>\n",
       "      <th>187</th>\n",
       "      <td>25439</td>\n",
       "      <td>7870</td>\n",
       "      <td>2Q- (7CC44AA)</td>\n",
       "      <td>CLJ Pro M281fdw MFP</td>\n",
       "      <td>T6B82A</td>\n",
       "      <td>18500.00</td>\n",
       "      <td>9875</td>\n",
       "      <td>Trade-in Program for BTB</td>\n",
       "      <td>SPECIAL NEGOTIATED DISCOUNT</td>\n",
       "      <td>MIR</td>\n",
       "      <td>Office Depot</td>\n",
       "      <td>Approved</td>\n",
       "      <td>HPS HW</td>\n",
       "      <td>BTB</td>\n",
       "      <td>BTB</td>\n",
       "    </tr>\n",
       "    <tr>\n",
       "      <th>263</th>\n",
       "      <td>33039</td>\n",
       "      <td>11080</td>\n",
       "      <td>2Q- (7CC44AA)</td>\n",
       "      <td>NaN</td>\n",
       "      <td>NaN</td>\n",
       "      <td>45362.27</td>\n",
       "      <td>10007</td>\n",
       "      <td>ASP - Staples BOPIS - BTB &amp; STS</td>\n",
       "      <td>SPECIAL NEGOTIATED DISCOUNT</td>\n",
       "      <td>MIR</td>\n",
       "      <td>Staples</td>\n",
       "      <td>Approved</td>\n",
       "      <td>HPS HW</td>\n",
       "      <td>BTB</td>\n",
       "      <td>BTB</td>\n",
       "    </tr>\n",
       "  </tbody>\n",
       "</table>\n",
       "</div>"
      ],
      "text/plain": [
       "     cm_id  claim_id             pl         productmodel  partno  totalamount  \\\n",
       "64   23510      7831  5M- (7CC52AA)      ENVY 7855 Photo  K7R96A      3570.00   \n",
       "187  25439      7870  2Q- (7CC44AA)  CLJ Pro M281fdw MFP  T6B82A     18500.00   \n",
       "263  33039     11080  2Q- (7CC44AA)                  NaN     NaN     45362.27   \n",
       "\n",
       "    program_number                     program_name  \\\n",
       "64            9875         Trade-in Program for BTB   \n",
       "187           9875         Trade-in Program for BTB   \n",
       "263          10007  ASP - Staples BOPIS - BTB & STS   \n",
       "\n",
       "                           descr actual_activity      reseller claim_status  \\\n",
       "64   SPECIAL NEGOTIATED DISCOUNT             MIR  Office Depot     Approved   \n",
       "187  SPECIAL NEGOTIATED DISCOUNT             MIR  Office Depot     Approved   \n",
       "263  SPECIAL NEGOTIATED DISCOUNT             MIR       Staples     Approved   \n",
       "\n",
       "    business_type activity_subtype activity_subtype_id  \n",
       "64         HPS HW              BTB                 BTB  \n",
       "187        HPS HW              BTB                 BTB  \n",
       "263        HPS HW              BTB                 BTB  "
      ]
     },
     "execution_count": 20,
     "metadata": {},
     "output_type": "execute_result"
    }
   ],
   "source": [
    "btb = df[df[\"activity_subtype\"] == \"BTB\"].head(3)\n",
    "btb"
   ]
  },
  {
   "cell_type": "markdown",
   "id": "60126dc1",
   "metadata": {},
   "source": [
    "No logramos encontrar ningún patrón en los datos, a excepción de la columna \"program name\" la cual contiene la palabra \"BTB\" en casi todas las entradas."
   ]
  },
  {
   "cell_type": "markdown",
   "id": "1d27c62a",
   "metadata": {},
   "source": [
    "## Display"
   ]
  },
  {
   "cell_type": "code",
   "execution_count": 58,
   "id": "d60a7b50",
   "metadata": {},
   "outputs": [],
   "source": [
    " display = df[df[\"activity_subtype\"] == \"Display\"]"
   ]
  },
  {
   "cell_type": "code",
   "execution_count": 64,
   "id": "92a181eb",
   "metadata": {},
   "outputs": [
    {
     "data": {
      "text/plain": [
       "77      False\n",
       "82      False\n",
       "83      False\n",
       "90       True\n",
       "120     False\n",
       "        ...  \n",
       "7981    False\n",
       "8017    False\n",
       "8021    False\n",
       "8057    False\n",
       "8059    False\n",
       "Name: program_name, Length: 339, dtype: bool"
      ]
     },
     "execution_count": 64,
     "metadata": {},
     "output_type": "execute_result"
    }
   ],
   "source": [
    "display[\"program_name\"].str.contains(\"Always On Banners\")"
   ]
  },
  {
   "cell_type": "markdown",
   "id": "cdf11ae0",
   "metadata": {},
   "source": [
    "## START"
   ]
  },
  {
   "cell_type": "code",
   "execution_count": 169,
   "id": "bc5474b7",
   "metadata": {},
   "outputs": [],
   "source": [
    "import pandas as pd\n",
    "\n",
    "import numpy as np\n",
    "import matplotlib.pyplot as plt"
   ]
  },
  {
   "cell_type": "markdown",
   "id": "1e4168f2",
   "metadata": {},
   "source": [
    "We have noticed that the only columns that gives us information about the activity subtype is the program name. For this reason, we will be focusing only on that column. "
   ]
  },
  {
   "cell_type": "markdown",
   "id": "9cb254b4",
   "metadata": {},
   "source": [
    "A new dataset was provided to us, we will be merging these two datasets and using them as our training set."
   ]
  },
  {
   "cell_type": "markdown",
   "id": "4e8be524",
   "metadata": {},
   "source": [
    "## Merging dataset"
   ]
  },
  {
   "cell_type": "code",
   "execution_count": 170,
   "id": "4803350a",
   "metadata": {},
   "outputs": [],
   "source": [
    "df1 = pd.read_csv(\"MDF_US.csv\", usecols=[\"program_name\", \"activity_subtype\",\"activity_subtype_id\",\"reseller\"])\n",
    "df2 = pd.read_csv(\"aspcliamsdb_r_sptkpi.csv\",usecols=[\"program_name\", \"activity_subtype\",\"activity_subtype_id\",\"reseller\"])"
   ]
  },
  {
   "cell_type": "code",
   "execution_count": 171,
   "id": "d05c83cc",
   "metadata": {},
   "outputs": [],
   "source": [
    "# mask of UNKNOWN and NULL\n",
    "mask_unknown1 = (df1[\"activity_subtype\"] == \"UNKNOWN\") | (df1[\"activity_subtype\"].isna())\n",
    "mask_unknown2 = (df2[\"activity_subtype\"] == \"UNKNOWN\") | (df2[\"activity_subtype\"].isna())"
   ]
  },
  {
   "cell_type": "code",
   "execution_count": 172,
   "id": "069aec14",
   "metadata": {},
   "outputs": [],
   "source": [
    "df2 = df2[~mask_unknown2] # we apply the filter\n",
    "df1 = df1[~mask_unknown1]"
   ]
  },
  {
   "cell_type": "code",
   "execution_count": 173,
   "id": "eb70a0a6",
   "metadata": {},
   "outputs": [
    {
     "data": {
      "text/plain": [
       "((3762, 4), (11850, 4))"
      ]
     },
     "execution_count": 173,
     "metadata": {},
     "output_type": "execute_result"
    }
   ],
   "source": [
    "df1.shape, df2.shape # These are the final two dataframes that we want to concatenate"
   ]
  },
  {
   "cell_type": "markdown",
   "id": "3c422f59",
   "metadata": {},
   "source": [
    "We concatenate both DataFrames"
   ]
  },
  {
   "cell_type": "code",
   "execution_count": 174,
   "id": "4f4b1484",
   "metadata": {},
   "outputs": [],
   "source": [
    "df = pd.concat([df1, df2],ignore_index=True)"
   ]
  },
  {
   "cell_type": "markdown",
   "id": "f6e3c579",
   "metadata": {},
   "source": [
    "## We observe our new DataFrame"
   ]
  },
  {
   "cell_type": "code",
   "execution_count": 25,
   "id": "4f54a623",
   "metadata": {},
   "outputs": [
    {
     "data": {
      "text/html": [
       "<div>\n",
       "<style scoped>\n",
       "    .dataframe tbody tr th:only-of-type {\n",
       "        vertical-align: middle;\n",
       "    }\n",
       "\n",
       "    .dataframe tbody tr th {\n",
       "        vertical-align: top;\n",
       "    }\n",
       "\n",
       "    .dataframe thead th {\n",
       "        text-align: right;\n",
       "    }\n",
       "</style>\n",
       "<table border=\"1\" class=\"dataframe\">\n",
       "  <thead>\n",
       "    <tr style=\"text-align: right;\">\n",
       "      <th></th>\n",
       "      <th>cm_id</th>\n",
       "      <th>claim_id</th>\n",
       "      <th>pl</th>\n",
       "      <th>productmodel</th>\n",
       "      <th>partno</th>\n",
       "      <th>totalamount</th>\n",
       "      <th>program_number</th>\n",
       "      <th>program_name</th>\n",
       "      <th>descr</th>\n",
       "      <th>actual_activity</th>\n",
       "      <th>reseller</th>\n",
       "      <th>claim_status</th>\n",
       "      <th>business_type</th>\n",
       "      <th>activity_subtype</th>\n",
       "      <th>activity_subtype_id</th>\n",
       "    </tr>\n",
       "  </thead>\n",
       "  <tbody>\n",
       "    <tr>\n",
       "      <th>0</th>\n",
       "      <td>24281</td>\n",
       "      <td>7901</td>\n",
       "      <td>4H- (7CC47AA)</td>\n",
       "      <td>HP OfficeJet 5255 All-in-One Printer</td>\n",
       "      <td>M2U75A</td>\n",
       "      <td>10000.00</td>\n",
       "      <td>9008</td>\n",
       "      <td>Ad Funds - Inkjet Printers FY'20 H12</td>\n",
       "      <td>MARKET DEVELOPMENT FUNDS</td>\n",
       "      <td>Ad Funding</td>\n",
       "      <td>Best Buy</td>\n",
       "      <td>Approved</td>\n",
       "      <td>HPS HW</td>\n",
       "      <td>Program</td>\n",
       "      <td>Advertising</td>\n",
       "    </tr>\n",
       "    <tr>\n",
       "      <th>2</th>\n",
       "      <td>24139</td>\n",
       "      <td>7991</td>\n",
       "      <td>IF- (7CD16AA)</td>\n",
       "      <td>HP Sprocket Studio Bundle</td>\n",
       "      <td>8SU11A</td>\n",
       "      <td>3624.00</td>\n",
       "      <td>10113</td>\n",
       "      <td>CP - Add Missed Paper to Studio at NAE</td>\n",
       "      <td>MARKET DEVELOPMENT FUNDS</td>\n",
       "      <td>In-Store Merchandising Enhancement</td>\n",
       "      <td>New Age</td>\n",
       "      <td>Approved</td>\n",
       "      <td>HPS HW</td>\n",
       "      <td>Program</td>\n",
       "      <td>Advertising</td>\n",
       "    </tr>\n",
       "    <tr>\n",
       "      <th>6</th>\n",
       "      <td>60131</td>\n",
       "      <td>23533</td>\n",
       "      <td>KV- (4XM40A)</td>\n",
       "      <td>15-EU1073CL</td>\n",
       "      <td>644F0UA</td>\n",
       "      <td>875.00</td>\n",
       "      <td>AIS-CO-N01123</td>\n",
       "      <td>Costco C2'22 Warehouse NB IR Program</td>\n",
       "      <td>undefined</td>\n",
       "      <td>Instant Savings</td>\n",
       "      <td>Costco</td>\n",
       "      <td>Approved</td>\n",
       "      <td>PC</td>\n",
       "      <td>Program</td>\n",
       "      <td>Other</td>\n",
       "    </tr>\n",
       "    <tr>\n",
       "      <th>7</th>\n",
       "      <td>40575</td>\n",
       "      <td>15308</td>\n",
       "      <td>GJ- (7CC96AA)</td>\n",
       "      <td>NaN</td>\n",
       "      <td>NaN</td>\n",
       "      <td>91121.22</td>\n",
       "      <td>11272</td>\n",
       "      <td>Q2 21 Toner 1% CX Program</td>\n",
       "      <td>Sales goal Attainment</td>\n",
       "      <td>Margin Enhancement</td>\n",
       "      <td>Amazon</td>\n",
       "      <td>Reversed</td>\n",
       "      <td>Toner</td>\n",
       "      <td>Program</td>\n",
       "      <td>Other</td>\n",
       "    </tr>\n",
       "    <tr>\n",
       "      <th>8</th>\n",
       "      <td>26017</td>\n",
       "      <td>8399</td>\n",
       "      <td>4H- (7CC47AA)</td>\n",
       "      <td>NaN</td>\n",
       "      <td>NaN</td>\n",
       "      <td>27604.41</td>\n",
       "      <td>9842</td>\n",
       "      <td>ASP - CQ1'20 Printer Share Agreement</td>\n",
       "      <td>Sales goal Attainment</td>\n",
       "      <td>Margin Enhancement</td>\n",
       "      <td>Costco</td>\n",
       "      <td>Approved</td>\n",
       "      <td>HPS HW</td>\n",
       "      <td>Program</td>\n",
       "      <td>Other</td>\n",
       "    </tr>\n",
       "  </tbody>\n",
       "</table>\n",
       "</div>"
      ],
      "text/plain": [
       "   cm_id  claim_id             pl                          productmodel  \\\n",
       "0  24281      7901  4H- (7CC47AA)  HP OfficeJet 5255 All-in-One Printer   \n",
       "2  24139      7991  IF- (7CD16AA)             HP Sprocket Studio Bundle   \n",
       "6  60131     23533   KV- (4XM40A)                           15-EU1073CL   \n",
       "7  40575     15308  GJ- (7CC96AA)                                   NaN   \n",
       "8  26017      8399  4H- (7CC47AA)                                   NaN   \n",
       "\n",
       "    partno  totalamount program_number  \\\n",
       "0   M2U75A     10000.00           9008   \n",
       "2   8SU11A      3624.00          10113   \n",
       "6  644F0UA       875.00  AIS-CO-N01123   \n",
       "7      NaN     91121.22          11272   \n",
       "8      NaN     27604.41           9842   \n",
       "\n",
       "                             program_name                     descr  \\\n",
       "0    Ad Funds - Inkjet Printers FY'20 H12  MARKET DEVELOPMENT FUNDS   \n",
       "2  CP - Add Missed Paper to Studio at NAE  MARKET DEVELOPMENT FUNDS   \n",
       "6    Costco C2'22 Warehouse NB IR Program                 undefined   \n",
       "7               Q2 21 Toner 1% CX Program     Sales goal Attainment   \n",
       "8   ASP - CQ1'20 Printer Share Agreement      Sales goal Attainment   \n",
       "\n",
       "                      actual_activity  reseller claim_status business_type  \\\n",
       "0                          Ad Funding  Best Buy     Approved        HPS HW   \n",
       "2  In-Store Merchandising Enhancement   New Age     Approved        HPS HW   \n",
       "6                     Instant Savings    Costco     Approved            PC   \n",
       "7                  Margin Enhancement    Amazon     Reversed         Toner   \n",
       "8                  Margin Enhancement    Costco     Approved        HPS HW   \n",
       "\n",
       "  activity_subtype activity_subtype_id  \n",
       "0          Program         Advertising  \n",
       "2          Program         Advertising  \n",
       "6          Program               Other  \n",
       "7          Program               Other  \n",
       "8          Program               Other  "
      ]
     },
     "execution_count": 25,
     "metadata": {},
     "output_type": "execute_result"
    }
   ],
   "source": [
    "df.head()"
   ]
  },
  {
   "cell_type": "code",
   "execution_count": 176,
   "id": "a71003e9",
   "metadata": {},
   "outputs": [
    {
     "data": {
      "text/plain": [
       "array(['Program', 'Search', 'Trad_media', 'Digital', 'Holiday', 'BTS',\n",
       "       'BTB', 'Display', 'Email'], dtype=object)"
      ]
     },
     "execution_count": 176,
     "metadata": {},
     "output_type": "execute_result"
    }
   ],
   "source": [
    "df[\"activity_subtype\"].unique()"
   ]
  },
  {
   "cell_type": "code",
   "execution_count": 177,
   "id": "c121446f",
   "metadata": {},
   "outputs": [],
   "source": [
    "display = df[df[\"activity_subtype\"] == \"Display\"]\n",
    "program = df[df[\"activity_subtype\"] == \"Program\"]\n",
    "search = df[df[\"activity_subtype\"] == \"Search\"]\n",
    "trad = df[df[\"activity_subtype\"] == \"Trad_media\"]\n",
    "digital = df[df[\"activity_subtype\"] == \"Digital\"]\n",
    "holiday = df[df[\"activity_subtype\"] == \"Holiday\"]\n",
    "bts = df[df[\"activity_subtype\"] == \"BTS\"]\n",
    "btb = df[df[\"activity_subtype\"] == \"BTB\"]\n",
    "email = df[df[\"activity_subtype\"] == \"Email\"]"
   ]
  },
  {
   "cell_type": "markdown",
   "id": "95c9113c",
   "metadata": {},
   "source": [
    "## Display"
   ]
  },
  {
   "cell_type": "code",
   "execution_count": 178,
   "id": "ed4fad91",
   "metadata": {},
   "outputs": [
    {
     "data": {
      "text/plain": [
       "39                           Retail Store Rewards Banner \n",
       "44               ASP - May-July HV Online Digital Program\n",
       "45                        CP: OPS - AB CE Showcase Banner\n",
       "47                              Always On Banners Dec-Feb\n",
       "60                   VPA Aarons H1 2022 Demand Generation\n",
       "                               ...                       \n",
       "15602    Bestbuy.com via NAE Cycle Funding 2022 (Mar-Oct)\n",
       "15604                 Costco.com Desktop C2'22 IR Program\n",
       "15608                     Walmart.com Margin Jul-Sep 2021\n",
       "15609                     Walmart.com Margin Jul-Sep 2021\n",
       "15610                      Costco.com C2'22 NB IR Program\n",
       "Name: program_name, Length: 1957, dtype: object"
      ]
     },
     "execution_count": 178,
     "metadata": {},
     "output_type": "execute_result"
    }
   ],
   "source": [
    "display[\"program_name\"]"
   ]
  },
  {
   "cell_type": "markdown",
   "id": "847f7a3a",
   "metadata": {},
   "source": [
    "## CNN for NLP "
   ]
  },
  {
   "cell_type": "code",
   "execution_count": 129,
   "id": "e3a1ae83",
   "metadata": {},
   "outputs": [
    {
     "name": "stderr",
     "output_type": "stream",
     "text": [
      "[nltk_data] Downloading package stopwords to\n",
      "[nltk_data]     C:\\Users\\pablo\\AppData\\Roaming\\nltk_data...\n",
      "[nltk_data]   Package stopwords is already up-to-date!\n"
     ]
    },
    {
     "data": {
      "text/plain": [
       "True"
      ]
     },
     "execution_count": 129,
     "metadata": {},
     "output_type": "execute_result"
    }
   ],
   "source": [
    "import re\n",
    "import calendar\n",
    "import nltk\n",
    "from nltk.corpus import wordnet\n",
    "from nltk.stem import WordNetLemmatizer\n",
    "nltk.download('stopwords')"
   ]
  },
  {
   "cell_type": "code",
   "execution_count": 130,
   "id": "63f42c41",
   "metadata": {},
   "outputs": [
    {
     "data": {
      "text/html": [
       "<div>\n",
       "<style scoped>\n",
       "    .dataframe tbody tr th:only-of-type {\n",
       "        vertical-align: middle;\n",
       "    }\n",
       "\n",
       "    .dataframe tbody tr th {\n",
       "        vertical-align: top;\n",
       "    }\n",
       "\n",
       "    .dataframe thead th {\n",
       "        text-align: right;\n",
       "    }\n",
       "</style>\n",
       "<table border=\"1\" class=\"dataframe\">\n",
       "  <thead>\n",
       "    <tr style=\"text-align: right;\">\n",
       "      <th></th>\n",
       "      <th>index</th>\n",
       "    </tr>\n",
       "    <tr>\n",
       "      <th>activity_subtype</th>\n",
       "      <th></th>\n",
       "    </tr>\n",
       "  </thead>\n",
       "  <tbody>\n",
       "    <tr>\n",
       "      <th>Program</th>\n",
       "      <td>8735</td>\n",
       "    </tr>\n",
       "    <tr>\n",
       "      <th>Display</th>\n",
       "      <td>1957</td>\n",
       "    </tr>\n",
       "    <tr>\n",
       "      <th>Search</th>\n",
       "      <td>1216</td>\n",
       "    </tr>\n",
       "    <tr>\n",
       "      <th>BTB</th>\n",
       "      <td>1057</td>\n",
       "    </tr>\n",
       "    <tr>\n",
       "      <th>Holiday</th>\n",
       "      <td>1016</td>\n",
       "    </tr>\n",
       "    <tr>\n",
       "      <th>BTS</th>\n",
       "      <td>803</td>\n",
       "    </tr>\n",
       "    <tr>\n",
       "      <th>Email</th>\n",
       "      <td>429</td>\n",
       "    </tr>\n",
       "    <tr>\n",
       "      <th>Digital</th>\n",
       "      <td>210</td>\n",
       "    </tr>\n",
       "    <tr>\n",
       "      <th>Trad_media</th>\n",
       "      <td>189</td>\n",
       "    </tr>\n",
       "  </tbody>\n",
       "</table>\n",
       "</div>"
      ],
      "text/plain": [
       "                  index\n",
       "activity_subtype       \n",
       "Program            8735\n",
       "Display            1957\n",
       "Search             1216\n",
       "BTB                1057\n",
       "Holiday            1016\n",
       "BTS                 803\n",
       "Email               429\n",
       "Digital             210\n",
       "Trad_media          189"
      ]
     },
     "execution_count": 130,
     "metadata": {},
     "output_type": "execute_result"
    }
   ],
   "source": [
    "categories = df[\"activity_subtype\"].unique()\n",
    "df = df[ df[\"activity_subtype\"].isin(categories) ]\n",
    "df[\"activity_subtype\"].reset_index().groupby(\"activity_subtype\").count().sort_values(by=\"index\", ascending=False)"
   ]
  },
  {
   "cell_type": "code",
   "execution_count": 231,
   "id": "6a846317",
   "metadata": {},
   "outputs": [],
   "source": [
    "def preprocess_text(text, stopwords=None):\n",
    "    '''\n",
    "    Preprocess a string.\n",
    "    :parameter\n",
    "        :param text: string - name of column containing text\n",
    "        :param stopwords: list - list of stopwords to remove\n",
    "    :return\n",
    "        cleaned text\n",
    "    '''\n",
    "    ## Replace some punctuations for space\n",
    "    chars = [\".\", \"-\", \" - \", \",\", \"´\" ,\"'\", \"\\\\\", \"/\"]\n",
    "    for char in chars:\n",
    "        text = text.replace(char, \" \")\n",
    "    \n",
    "    ## Tokenize (convert from string to list)\n",
    "    list_text = text.split()\n",
    "    \n",
    "    ## Remove numbers\n",
    "    new_text = []\n",
    "    for el in list_text:\n",
    "        if el.isalpha(): # Check if the string is purely alphabetic. We don´t want alphanumeric values.\n",
    "            new_text.append(el)   \n",
    "    \n",
    "    list_text = [i.lower() for i in new_text]\n",
    "    ## Remove Stopwords\n",
    "    if stopwords is not None:\n",
    "        list_text = [word.lower() for word in list_text if word not in stopwords]\n",
    "        \n",
    "    ## back to string from list\n",
    "    text = \" \".join(list_text)\n",
    "        \n",
    "    ## clean (convert to lowercase and remove punctuations and characters and then strip)\n",
    "    text = re.sub(r'[^\\w\\s]', '', str(text).lower().strip())\n",
    "    \n",
    "    return text"
   ]
  },
  {
   "cell_type": "code",
   "execution_count": 180,
   "id": "b5a73571",
   "metadata": {},
   "outputs": [],
   "source": [
    "stopwords = nltk.corpus.stopwords.words(\"english\")\n",
    "months = calendar.month_name[1:]\n",
    "cut_months = [i[:3] for i in calendar.month_name[1:]]\n",
    "resellers = list(df[\"reseller\"].unique())\n",
    "extras = [\"com\", \"org\"]\n",
    "\n",
    "added_stopwords = stopwords + months + cut_months + resellers + extras\n",
    "added_stopwords = [i.lower() for i in added_stopwords]"
   ]
  },
  {
   "cell_type": "code",
   "execution_count": 192,
   "id": "1f15c136",
   "metadata": {},
   "outputs": [],
   "source": [
    "example = df.iloc[15608,:][\"program_name\"]\n",
    "example2 = df.iloc[215,:][\"program_name\"]\n",
    "example3 = df.iloc[3, :][\"program_name\"]"
   ]
  },
  {
   "cell_type": "code",
   "execution_count": 193,
   "id": "c4906997",
   "metadata": {},
   "outputs": [
    {
     "data": {
      "text/plain": [
       "('Walmart.com Margin Jul-Sep 2021',\n",
       " \"FQ3'22 Notebook EOL Program\",\n",
       " 'Q2 21 Toner 1% CX Program')"
      ]
     },
     "execution_count": 193,
     "metadata": {},
     "output_type": "execute_result"
    }
   ],
   "source": [
    "example, example2, example3"
   ]
  },
  {
   "cell_type": "code",
   "execution_count": 195,
   "id": "4b72d9e2",
   "metadata": {},
   "outputs": [
    {
     "data": {
      "text/plain": [
       "('margin', 'notebook eol program', 'toner cx program')"
      ]
     },
     "execution_count": 195,
     "metadata": {},
     "output_type": "execute_result"
    }
   ],
   "source": [
    "preprocess_text(example, added_stopwords), preprocess_text(example2, added_stopwords), preprocess_text(example3, added_stopwords)"
   ]
  },
  {
   "cell_type": "markdown",
   "id": "b8033ab1",
   "metadata": {},
   "source": [
    "We can see that we are left only with the essential words, the words that gives us clue of the activity type."
   ]
  },
  {
   "cell_type": "markdown",
   "id": "7ea058fd",
   "metadata": {},
   "source": [
    "## Drop resellers"
   ]
  },
  {
   "cell_type": "markdown",
   "id": "7d2787de",
   "metadata": {},
   "source": [
    "We don´t need the resellers anymore, so we can drop that column and do all the preprocessing based on the program name"
   ]
  },
  {
   "cell_type": "code",
   "execution_count": 137,
   "id": "bccf8009",
   "metadata": {},
   "outputs": [],
   "source": [
    "df.drop(labels=[\"reseller\"], axis=1, inplace=True)"
   ]
  },
  {
   "cell_type": "code",
   "execution_count": 138,
   "id": "ac907da2",
   "metadata": {},
   "outputs": [
    {
     "data": {
      "text/html": [
       "<div>\n",
       "<style scoped>\n",
       "    .dataframe tbody tr th:only-of-type {\n",
       "        vertical-align: middle;\n",
       "    }\n",
       "\n",
       "    .dataframe tbody tr th {\n",
       "        vertical-align: top;\n",
       "    }\n",
       "\n",
       "    .dataframe thead th {\n",
       "        text-align: right;\n",
       "    }\n",
       "</style>\n",
       "<table border=\"1\" class=\"dataframe\">\n",
       "  <thead>\n",
       "    <tr style=\"text-align: right;\">\n",
       "      <th></th>\n",
       "      <th>program_name</th>\n",
       "      <th>activity_subtype</th>\n",
       "      <th>activity_subtype_id</th>\n",
       "    </tr>\n",
       "  </thead>\n",
       "  <tbody>\n",
       "    <tr>\n",
       "      <th>211</th>\n",
       "      <td>Best Buy Black Friday Monitors 2022</td>\n",
       "      <td>Holiday</td>\n",
       "      <td>Black_Friday</td>\n",
       "    </tr>\n",
       "    <tr>\n",
       "      <th>212</th>\n",
       "      <td>Recycle Program - Tanks</td>\n",
       "      <td>Program</td>\n",
       "      <td>Other</td>\n",
       "    </tr>\n",
       "    <tr>\n",
       "      <th>213</th>\n",
       "      <td>Sponsored Products - Inkjet printers</td>\n",
       "      <td>Search</td>\n",
       "      <td>Sponsored_product</td>\n",
       "    </tr>\n",
       "    <tr>\n",
       "      <th>214</th>\n",
       "      <td>End Cap placement for January</td>\n",
       "      <td>Display</td>\n",
       "      <td>Display</td>\n",
       "    </tr>\n",
       "    <tr>\n",
       "      <th>215</th>\n",
       "      <td>FQ3'22 Notebook EOL Program</td>\n",
       "      <td>Program</td>\n",
       "      <td>Other</td>\n",
       "    </tr>\n",
       "  </tbody>\n",
       "</table>\n",
       "</div>"
      ],
      "text/plain": [
       "                             program_name activity_subtype activity_subtype_id\n",
       "211   Best Buy Black Friday Monitors 2022          Holiday        Black_Friday\n",
       "212               Recycle Program - Tanks          Program               Other\n",
       "213  Sponsored Products - Inkjet printers           Search   Sponsored_product\n",
       "214        End Cap placement for January           Display             Display\n",
       "215           FQ3'22 Notebook EOL Program          Program               Other"
      ]
     },
     "execution_count": 138,
     "metadata": {},
     "output_type": "execute_result"
    }
   ],
   "source": [
    "df.iloc[211:216,:]"
   ]
  },
  {
   "cell_type": "markdown",
   "id": "3abb4150",
   "metadata": {},
   "source": [
    "We create a new column with the clean text."
   ]
  },
  {
   "cell_type": "markdown",
   "id": "7ca87c21",
   "metadata": {},
   "source": [
    "## Text_clean column"
   ]
  },
  {
   "cell_type": "code",
   "execution_count": 139,
   "id": "87c81b22",
   "metadata": {},
   "outputs": [],
   "source": [
    "df[\"text_clean\"] = df[\"program_name\"].apply(lambda x: preprocess_text(x, added_stopwords))"
   ]
  },
  {
   "cell_type": "code",
   "execution_count": 140,
   "id": "84dfc546",
   "metadata": {},
   "outputs": [
    {
     "data": {
      "text/html": [
       "<div>\n",
       "<style scoped>\n",
       "    .dataframe tbody tr th:only-of-type {\n",
       "        vertical-align: middle;\n",
       "    }\n",
       "\n",
       "    .dataframe tbody tr th {\n",
       "        vertical-align: top;\n",
       "    }\n",
       "\n",
       "    .dataframe thead th {\n",
       "        text-align: right;\n",
       "    }\n",
       "</style>\n",
       "<table border=\"1\" class=\"dataframe\">\n",
       "  <thead>\n",
       "    <tr style=\"text-align: right;\">\n",
       "      <th></th>\n",
       "      <th>program_name</th>\n",
       "      <th>activity_subtype</th>\n",
       "      <th>activity_subtype_id</th>\n",
       "      <th>text_clean</th>\n",
       "    </tr>\n",
       "  </thead>\n",
       "  <tbody>\n",
       "    <tr>\n",
       "      <th>0</th>\n",
       "      <td>Ad Funds - Inkjet Printers FY'20 H12</td>\n",
       "      <td>Program</td>\n",
       "      <td>Advertising</td>\n",
       "      <td>ad funds inkjet printers fy</td>\n",
       "    </tr>\n",
       "    <tr>\n",
       "      <th>1</th>\n",
       "      <td>CP - Add Missed Paper to Studio at NAE</td>\n",
       "      <td>Program</td>\n",
       "      <td>Advertising</td>\n",
       "      <td>cp add missed paper studio nae</td>\n",
       "    </tr>\n",
       "    <tr>\n",
       "      <th>2</th>\n",
       "      <td>Costco C2'22 Warehouse NB IR Program</td>\n",
       "      <td>Program</td>\n",
       "      <td>Other</td>\n",
       "      <td>warehouse nb ir program</td>\n",
       "    </tr>\n",
       "    <tr>\n",
       "      <th>3</th>\n",
       "      <td>Q2 21 Toner 1% CX Program</td>\n",
       "      <td>Program</td>\n",
       "      <td>Other</td>\n",
       "      <td>toner cx program</td>\n",
       "    </tr>\n",
       "    <tr>\n",
       "      <th>4</th>\n",
       "      <td>ASP - CQ1'20 Printer Share Agreement</td>\n",
       "      <td>Program</td>\n",
       "      <td>Other</td>\n",
       "      <td>asp printer share agreement</td>\n",
       "    </tr>\n",
       "    <tr>\n",
       "      <th>...</th>\n",
       "      <td>...</td>\n",
       "      <td>...</td>\n",
       "      <td>...</td>\n",
       "      <td>...</td>\n",
       "    </tr>\n",
       "    <tr>\n",
       "      <th>15607</th>\n",
       "      <td>ASP: Walmart.com BTS 2019 Net Sales Rebate</td>\n",
       "      <td>BTS</td>\n",
       "      <td>BTS</td>\n",
       "      <td>bts net sales rebate</td>\n",
       "    </tr>\n",
       "    <tr>\n",
       "      <th>15608</th>\n",
       "      <td>Walmart.com Margin Jul-Sep 2021</td>\n",
       "      <td>Display</td>\n",
       "      <td>Display</td>\n",
       "      <td>margin</td>\n",
       "    </tr>\n",
       "    <tr>\n",
       "      <th>15609</th>\n",
       "      <td>Walmart.com Margin Jul-Sep 2021</td>\n",
       "      <td>Display</td>\n",
       "      <td>Display</td>\n",
       "      <td>margin</td>\n",
       "    </tr>\n",
       "    <tr>\n",
       "      <th>15610</th>\n",
       "      <td>Costco.com C2'22 NB IR Program</td>\n",
       "      <td>Display</td>\n",
       "      <td>Display</td>\n",
       "      <td>nb ir program</td>\n",
       "    </tr>\n",
       "    <tr>\n",
       "      <th>15611</th>\n",
       "      <td>Costco.com Desktop C1'22 BTS IR Program</td>\n",
       "      <td>BTS</td>\n",
       "      <td>BTS</td>\n",
       "      <td>desktop bts ir program</td>\n",
       "    </tr>\n",
       "  </tbody>\n",
       "</table>\n",
       "<p>15612 rows × 4 columns</p>\n",
       "</div>"
      ],
      "text/plain": [
       "                                     program_name activity_subtype  \\\n",
       "0            Ad Funds - Inkjet Printers FY'20 H12          Program   \n",
       "1          CP - Add Missed Paper to Studio at NAE          Program   \n",
       "2            Costco C2'22 Warehouse NB IR Program          Program   \n",
       "3                       Q2 21 Toner 1% CX Program          Program   \n",
       "4           ASP - CQ1'20 Printer Share Agreement           Program   \n",
       "...                                           ...              ...   \n",
       "15607  ASP: Walmart.com BTS 2019 Net Sales Rebate              BTS   \n",
       "15608             Walmart.com Margin Jul-Sep 2021          Display   \n",
       "15609             Walmart.com Margin Jul-Sep 2021          Display   \n",
       "15610              Costco.com C2'22 NB IR Program          Display   \n",
       "15611     Costco.com Desktop C1'22 BTS IR Program              BTS   \n",
       "\n",
       "      activity_subtype_id                      text_clean  \n",
       "0             Advertising     ad funds inkjet printers fy  \n",
       "1             Advertising  cp add missed paper studio nae  \n",
       "2                   Other         warehouse nb ir program  \n",
       "3                   Other                toner cx program  \n",
       "4                   Other     asp printer share agreement  \n",
       "...                   ...                             ...  \n",
       "15607                 BTS            bts net sales rebate  \n",
       "15608             Display                          margin  \n",
       "15609             Display                          margin  \n",
       "15610             Display                   nb ir program  \n",
       "15611                 BTS          desktop bts ir program  \n",
       "\n",
       "[15612 rows x 4 columns]"
      ]
     },
     "execution_count": 140,
     "metadata": {},
     "output_type": "execute_result"
    }
   ],
   "source": [
    "df"
   ]
  },
  {
   "cell_type": "markdown",
   "id": "7ffba369",
   "metadata": {},
   "source": [
    "## Train and Test samples"
   ]
  },
  {
   "cell_type": "code",
   "execution_count": 141,
   "id": "e3f3ed28",
   "metadata": {},
   "outputs": [],
   "source": [
    "from sklearn import model_selection\n",
    "## split dataset\n",
    "df_train, df_test = model_selection.train_test_split(df, test_size=0.2, shuffle=True)"
   ]
  },
  {
   "cell_type": "code",
   "execution_count": 142,
   "id": "5841b2e7",
   "metadata": {},
   "outputs": [],
   "source": [
    "## get target\n",
    "y_train = df_train[\"activity_subtype\"].values\n",
    "y_test = df_test[\"activity_subtype\"].values"
   ]
  },
  {
   "cell_type": "code",
   "execution_count": 143,
   "id": "d75bb0f1",
   "metadata": {},
   "outputs": [
    {
     "data": {
      "text/plain": [
       "((12489, 4), (3123, 4))"
      ]
     },
     "execution_count": 143,
     "metadata": {},
     "output_type": "execute_result"
    }
   ],
   "source": [
    "df_train.shape, df_test.shape"
   ]
  },
  {
   "cell_type": "markdown",
   "id": "dcfa2d05",
   "metadata": {},
   "source": [
    "## Vectorizer"
   ]
  },
  {
   "cell_type": "code",
   "execution_count": 144,
   "id": "811121ac",
   "metadata": {},
   "outputs": [],
   "source": [
    "from sklearn import feature_extraction\n",
    "from sklearn import feature_selection"
   ]
  },
  {
   "cell_type": "code",
   "execution_count": 145,
   "id": "6fca05e1",
   "metadata": {},
   "outputs": [],
   "source": [
    "vectorizer = feature_extraction.text.TfidfVectorizer(max_features=10000, ngram_range=(1,2))"
   ]
  },
  {
   "cell_type": "code",
   "execution_count": 146,
   "id": "20285141",
   "metadata": {},
   "outputs": [],
   "source": [
    "corpus = df_train[\"text_clean\"]\n",
    "vectorizer.fit(corpus)\n",
    "X_train = vectorizer.fit_transform(corpus)\n",
    "dic_vocabulary = vectorizer.vocabulary_"
   ]
  },
  {
   "cell_type": "code",
   "execution_count": 147,
   "id": "9e8a089d",
   "metadata": {},
   "outputs": [
    {
     "data": {
      "text/plain": [
       "2501"
      ]
     },
     "execution_count": 147,
     "metadata": {},
     "output_type": "execute_result"
    }
   ],
   "source": [
    "len(dic_vocabulary)"
   ]
  },
  {
   "cell_type": "code",
   "execution_count": 148,
   "id": "209cab44",
   "metadata": {},
   "outputs": [],
   "source": [
    "# Reduce features with chi-square\n",
    "y = df_train[\"activity_subtype\"]\n",
    "X_names = vectorizer.get_feature_names()\n",
    "p_value_limit = 0.96"
   ]
  },
  {
   "cell_type": "code",
   "execution_count": 149,
   "id": "fd1596a2",
   "metadata": {},
   "outputs": [
    {
     "name": "stdout",
     "output_type": "stream",
     "text": [
      "# BTB:\n",
      "  . selected features: 198\n",
      "  . top features: back,back business,bbm btb,bopis btb,btb,btb hps,btb ops,btb refresh,btb sts,business\n",
      " \n",
      "# BTS:\n",
      "  . selected features: 223\n",
      "  . top features: ab back,asp ojp,back school,bbm bts,bby student,bopis bts,bts,bts event,bts ir,bts marketing\n",
      " \n",
      "# Digital:\n",
      "  . selected features: 113\n",
      "  . top features: advertising,advertising program,asp mc,awareness,awareness program,club toner,co,co op,collaborative,collaborative digital\n",
      " \n",
      "# Display:\n",
      "  . selected features: 464\n",
      "  . top features: allowance,always,always banners,asp online,asst,banner,banners,banners fy,bby fy,bestbuy\n",
      " \n",
      "# Email:\n",
      "  . selected features: 121\n",
      "  . top features: blast,blast hp,blast laserjet,branded,branded email,campaign,campaigns,crm,crm email,crm hps\n",
      " \n",
      "# Holiday:\n",
      "  . selected features: 311\n",
      "  . top features: age newegg,best,best buy,black,black friday,buy,buy black,computing,desktop,desktop eol\n",
      " \n",
      "# Program:\n",
      "  . selected features: 725\n",
      "  . top features: ad,ad funds,agreement,always banners,asp,asp printer,back,back business,banners,btb\n",
      " \n",
      "# Search:\n",
      "  . selected features: 244\n",
      "  . top features: amzn sponsored,collaborative search,coop,coop search,depot,depot co,google,inkjet,inkjet printers,laser\n",
      " \n",
      "# Trad_media:\n",
      "  . selected features: 125\n",
      "  . top features: ad circular,ad week,adv,adv week,asp mailer,catalog,circular,circular hero,circular space,cost\n",
      " \n"
     ]
    }
   ],
   "source": [
    "df_features = pd.DataFrame()\n",
    "\n",
    "for cat in np.unique(y):\n",
    "    chi2, p = feature_selection.chi2(X_train, y == cat)\n",
    "    temp_df = pd.DataFrame({\"feature\": X_names, \"score\": 1 - p, \"y\": cat})\n",
    "    df_features = pd.concat([df_features, temp_df], axis=0, ignore_index=True)\n",
    "\n",
    "df_features = df_features.sort_values([\"y\", \"score\"], ascending=[True, False])\n",
    "df_features = df_features[df_features[\"score\"] > p_value_limit]\n",
    "X_names = df_features[\"feature\"].unique().tolist()\n",
    "\n",
    "for cat in np.unique(y):\n",
    "    print(\"# {}:\".format(cat))\n",
    "    print(\"  . selected features:\", len(df_features[df_features[\"y\"] == cat]))\n",
    "    print(\"  . top features:\", \",\".join(df_features[df_features[\"y\"] == cat][\"feature\"].values[:10]))\n",
    "    print(\" \")"
   ]
  },
  {
   "cell_type": "code",
   "execution_count": 150,
   "id": "c03003d4",
   "metadata": {},
   "outputs": [],
   "source": [
    "# Vectorize again: Tf-Idf (advanced variant of BoW)\n",
    "vectorizer = feature_extraction.text.TfidfVectorizer(vocabulary=X_names)\n",
    "\n",
    "# Small matrix of features and vocabulary\n",
    "vectorizer.fit(corpus)\n",
    "X_train = vectorizer.transform(corpus)\n",
    "dic_vocabulary = vectorizer.vocabulary_\n",
    "X_test = df_test[\"text_clean\"].values"
   ]
  },
  {
   "cell_type": "markdown",
   "id": "61883461",
   "metadata": {},
   "source": [
    "## CNN 1DCONV"
   ]
  },
  {
   "cell_type": "code",
   "execution_count": 33,
   "id": "2c67b322",
   "metadata": {},
   "outputs": [],
   "source": [
    "from keras import layers\n",
    "from keras.models import Sequential\n",
    "from keras.layers import Dense, Activation\n",
    "from keras.preprocessing.text import Tokenizer, one_hot\n",
    "from keras_preprocessing.sequence import pad_sequences\n",
    "from keras.layers import Input, TextVectorization"
   ]
  },
  {
   "cell_type": "markdown",
   "id": "ad455d51",
   "metadata": {},
   "source": [
    "Tokenización"
   ]
  },
  {
   "cell_type": "code",
   "execution_count": 34,
   "id": "660637a9",
   "metadata": {},
   "outputs": [],
   "source": [
    "def calculate_length(x):\n",
    "    return len(x.split())"
   ]
  },
  {
   "cell_type": "code",
   "execution_count": 35,
   "id": "739d5627",
   "metadata": {},
   "outputs": [],
   "source": [
    "max_length = df_train[\"text_clean\"].apply(calculate_length)\n",
    "max_length = max(max_length)"
   ]
  },
  {
   "cell_type": "code",
   "execution_count": 36,
   "id": "e50cba2c",
   "metadata": {},
   "outputs": [
    {
     "data": {
      "text/plain": [
       "11"
      ]
     },
     "execution_count": 36,
     "metadata": {},
     "output_type": "execute_result"
    }
   ],
   "source": [
    "max_length"
   ]
  },
  {
   "cell_type": "code",
   "execution_count": 37,
   "id": "7a02b928",
   "metadata": {},
   "outputs": [],
   "source": [
    "tokenizer = Tokenizer()\n",
    "tokenizer.fit_on_texts(X_names)"
   ]
  },
  {
   "cell_type": "code",
   "execution_count": 38,
   "id": "499fe2cd",
   "metadata": {},
   "outputs": [
    {
     "data": {
      "text/plain": [
       "'Tamaño del vocabulario: 462'"
      ]
     },
     "execution_count": 38,
     "metadata": {},
     "output_type": "execute_result"
    }
   ],
   "source": [
    "\"Tamaño del vocabulario: {}\".format(len(tokenizer.word_index))"
   ]
  },
  {
   "cell_type": "code",
   "execution_count": 39,
   "id": "6179be4e",
   "metadata": {},
   "outputs": [],
   "source": [
    "corpus_cnn = list(corpus)\n",
    "train_sequence = tokenizer.texts_to_sequences(corpus_cnn)\n",
    "test_sequence = tokenizer.texts_to_sequences(X_test)"
   ]
  },
  {
   "cell_type": "code",
   "execution_count": 40,
   "id": "e9dae541",
   "metadata": {},
   "outputs": [
    {
     "data": {
      "text/plain": [
       "[[5, 118],\n",
       " [444],\n",
       " [442, 259, 103, 74, 32, 350],\n",
       " [387, 1, 20],\n",
       " [18, 47, 56, 7, 37]]"
      ]
     },
     "execution_count": 40,
     "metadata": {},
     "output_type": "execute_result"
    }
   ],
   "source": [
    "train_sequence[:5]"
   ]
  },
  {
   "cell_type": "code",
   "execution_count": 41,
   "id": "0d27f2c0",
   "metadata": {},
   "outputs": [
    {
     "name": "stdout",
     "output_type": "stream",
     "text": [
      "[[  5 118   0   0   0   0   0   0   0   0   0]\n",
      " [444   0   0   0   0   0   0   0   0   0   0]\n",
      " [442 259 103  74  32 350   0   0   0   0   0]\n",
      " [387   1  20   0   0   0   0   0   0   0   0]\n",
      " [ 18  47  56   7  37   0   0   0   0   0   0]]\n"
     ]
    },
    {
     "data": {
      "text/plain": [
       "((12489, 11), (3123, 11))"
      ]
     },
     "execution_count": 41,
     "metadata": {},
     "output_type": "execute_result"
    }
   ],
   "source": [
    "## Vectorizing data to keep words per sample.\n",
    "X_train_vect = pad_sequences(train_sequence, maxlen=max_length, padding=\"post\")\n",
    "X_test_vect  = pad_sequences(test_sequence, maxlen=max_length, padding=\"post\")\n",
    "\n",
    "print(X_train_vect[:5])\n",
    "\n",
    "X_train_vect.shape, X_test_vect.shape"
   ]
  },
  {
   "cell_type": "markdown",
   "id": "ccbaab8d",
   "metadata": {},
   "source": [
    "En el siguiente paso, convertimos la columna objetivo en una representación numérica que va a mappear cada clase. Esto se debe a que Keras pide las clases de esta manera y no como texto."
   ]
  },
  {
   "cell_type": "code",
   "execution_count": 42,
   "id": "f8027661",
   "metadata": {},
   "outputs": [
    {
     "data": {
      "text/plain": [
       "array(['Program', 'Search', 'Trad_media', 'Digital', 'Holiday', 'BTS',\n",
       "       'BTB', 'Display', 'Email'], dtype=object)"
      ]
     },
     "execution_count": 42,
     "metadata": {},
     "output_type": "execute_result"
    }
   ],
   "source": [
    "categories"
   ]
  },
  {
   "cell_type": "code",
   "execution_count": 43,
   "id": "8613150b",
   "metadata": {},
   "outputs": [],
   "source": [
    "dic = {\n",
    "    \"Program\": 0,\n",
    "    \"Search\": 1,\n",
    "    \"Trad_media\": 2,\n",
    "    \"Digital\": 3,\n",
    "    \"Holiday\" : 4,\n",
    "    \"BTS\": 5,\n",
    "    \"BTB\": 6,\n",
    "    \"Display\": 7,\n",
    "    \"Email\": 8\n",
    "}\n",
    "y_test_list = y_test.tolist()\n",
    "y_train_list = y_train.tolist()\n",
    "\n",
    "y_test_nums = []\n",
    "for i in y_test_list:\n",
    "    y_test_nums.append(dic[i])\n",
    "\n",
    "y_train_nums = []\n",
    "for i in y_train_list:\n",
    "    y_train_nums.append(dic[i])\n",
    "\n",
    "y_train2 = np.array(y_train_nums)\n",
    "y_test2 = np.array(y_test_nums)\n",
    "\n",
    "# prueba de convertir el set de entrenamiento a una matrix\n",
    "X_train2 = X_train.toarray()"
   ]
  },
  {
   "cell_type": "markdown",
   "id": "2a53d249",
   "metadata": {},
   "source": [
    "Ahora sí creamos la red neuronal"
   ]
  },
  {
   "cell_type": "code",
   "execution_count": 44,
   "id": "9a2de60d",
   "metadata": {},
   "outputs": [],
   "source": [
    "##hyper parameters\n",
    "embedding_dim = 128 #Length of the token vectors\n",
    "kernel_size = 5 # a window size of 3 tokens\n",
    "filters = 64 # Number of filters of output convolution\n",
    "epochs = 3"
   ]
  },
  {
   "cell_type": "code",
   "execution_count": 45,
   "id": "8fb46030",
   "metadata": {},
   "outputs": [
    {
     "name": "stdout",
     "output_type": "stream",
     "text": [
      "Model: \"sequential\"\n",
      "_________________________________________________________________\n",
      "Layer (type)                 Output Shape              Param #   \n",
      "=================================================================\n",
      "embedding (Embedding)        (None, 11, 100)           140700    \n",
      "_________________________________________________________________\n",
      "conv1d (Conv1D)              (None, 7, 64)             32064     \n",
      "_________________________________________________________________\n",
      "global_max_pooling1d (Global (None, 64)                0         \n",
      "_________________________________________________________________\n",
      "dense (Dense)                (None, 9)                 585       \n",
      "=================================================================\n",
      "Total params: 173,349\n",
      "Trainable params: 173,349\n",
      "Non-trainable params: 0\n",
      "_________________________________________________________________\n",
      "None\n"
     ]
    }
   ],
   "source": [
    "# CNN architecture\n",
    "model = Sequential()\n",
    "model.add(layers.Embedding(input_dim=X_train.shape[1], output_dim=100, input_length=max_length))\n",
    "model.add(layers.Conv1D(filters=filters,kernel_size=kernel_size, activation = \"relu\"))\n",
    "model.add(layers.GlobalMaxPooling1D())\n",
    "model.add(layers.Dense(9, activation = \"softmax\"))\n",
    "model.compile(optimizer = \"adam\", loss=\"sparse_categorical_crossentropy\", metrics = [\"accuracy\"])\n",
    "\n",
    "print(model.summary())"
   ]
  },
  {
   "cell_type": "code",
   "execution_count": 47,
   "id": "3f51a3ce",
   "metadata": {},
   "outputs": [
    {
     "name": "stdout",
     "output_type": "stream",
     "text": [
      "Epoch 1/3\n",
      "521/521 [==============================] - 1s 2ms/step - loss: 0.4191 - accuracy: 0.8808 - val_loss: 0.0699 - val_accuracy: 0.9856\n",
      "Epoch 2/3\n",
      "521/521 [==============================] - 1s 2ms/step - loss: 0.0445 - accuracy: 0.9898 - val_loss: 0.0413 - val_accuracy: 0.9898\n",
      "Epoch 3/3\n",
      "521/521 [==============================] - 1s 2ms/step - loss: 0.0283 - accuracy: 0.9933 - val_loss: 0.0359 - val_accuracy: 0.9910\n"
     ]
    }
   ],
   "source": [
    "history = model.fit(X_train_vect, y_train2,\n",
    "                    epochs = epochs,\n",
    "                    verbose = True,\n",
    "                    validation_data = (X_test_vect, y_test2),\n",
    "                    batch_size = 24)"
   ]
  },
  {
   "cell_type": "markdown",
   "id": "137f1166",
   "metadata": {},
   "source": [
    "## Metrics"
   ]
  },
  {
   "cell_type": "code",
   "execution_count": 48,
   "id": "baafcb6b",
   "metadata": {},
   "outputs": [],
   "source": [
    "from sklearn.metrics import multilabel_confusion_matrix, ConfusionMatrixDisplay\n",
    "import itertools\n",
    "import matplotlib.pyplot as plt"
   ]
  },
  {
   "cell_type": "code",
   "execution_count": 49,
   "id": "ed431059",
   "metadata": {},
   "outputs": [
    {
     "name": "stdout",
     "output_type": "stream",
     "text": [
      "313/313 [==============================] - 0s 545us/step\n"
     ]
    }
   ],
   "source": [
    "predictions = model.predict(x=X_test_vect, batch_size=10, verbose=True )"
   ]
  },
  {
   "cell_type": "code",
   "execution_count": 50,
   "id": "d1134a2a",
   "metadata": {},
   "outputs": [],
   "source": [
    "rounded_predictions = np.argmax(predictions, axis=-1)"
   ]
  },
  {
   "cell_type": "code",
   "execution_count": 51,
   "id": "5f2e6232",
   "metadata": {},
   "outputs": [],
   "source": [
    "columns = list(np.unique(y_test))"
   ]
  },
  {
   "cell_type": "code",
   "execution_count": 52,
   "id": "1d15b757",
   "metadata": {},
   "outputs": [],
   "source": [
    "df = pd.DataFrame([list(y_test2), rounded_predictions])\n",
    "df = df.transpose()\n",
    "df.columns=[\"True\", \"Pred\"]\n",
    "df = df.set_index(y_test)"
   ]
  },
  {
   "cell_type": "code",
   "execution_count": 53,
   "id": "6137fa47",
   "metadata": {},
   "outputs": [
    {
     "name": "stdout",
     "output_type": "stream",
     "text": [
      "[[1720, 0, 0, 0, 0, 0, 6, 1, 0], [1, 237, 0, 0, 0, 0, 0, 0, 0], [0, 0, 30, 0, 0, 0, 0, 1, 0], [4, 0, 0, 50, 0, 0, 0, 0, 0], [5, 0, 0, 0, 187, 0, 2, 0, 0], [4, 0, 0, 0, 0, 175, 0, 0, 0], [0, 0, 0, 0, 0, 0, 222, 0, 0], [2, 0, 0, 0, 0, 0, 0, 380, 0], [1, 0, 0, 0, 0, 0, 0, 1, 94]]\n"
     ]
    }
   ],
   "source": [
    "cm = []\n",
    "for i in range(len(columns)):\n",
    "    cm.append([0]*len(columns))\n",
    "for i in range(len(df)):\n",
    "    cm[df.iloc[i, 0]][df.iloc[i, 1]] +=1\n",
    "print(cm)"
   ]
  },
  {
   "cell_type": "code",
   "execution_count": 54,
   "id": "a1217ca1",
   "metadata": {},
   "outputs": [],
   "source": [
    "def plot_confusion_matrix(cm, classes, \n",
    "                          normalize=False,\n",
    "                          title=\"Confusion matrix\",\n",
    "                          cmap=plt.cm.RdPu):\n",
    "    \"\"\"\n",
    "    This function prints and plots the confusion matrix.\n",
    "    Normalization can be applied by setting 'normalize=True'.\n",
    "    \"\"\"\n",
    "    plt.imshow(cm, interpolation='nearest', cmap=cmap)\n",
    "    plt.title(title)\n",
    "    plt.colorbar()\n",
    "    tick_marks = np.arange(len(classes))\n",
    "    plt.xticks(tick_marks, classes, rotation=45)\n",
    "    plt.yticks(tick_marks, classes)\n",
    "    \n",
    "    if normalize:\n",
    "        cm = cm.astype('float') / cm.sum(axis=1)[:, np.newaxis]\n",
    "        print(\"Normalized confusion matrix\")\n",
    "    else:\n",
    "        print(\"Confusion matrix, without normalization\")\n",
    "    \n",
    "    cm = np.array(cm)\n",
    "    thresh = cm.max() / 2\n",
    "    for i, j in itertools.product(range(cm.shape[0]), range(cm.shape[1])):\n",
    "        plt.text(j, i, cm[i, j],\n",
    "                horizontalalignment=\"center\",\n",
    "                color=\"white\" if cm[i, j] > thresh else \"black\")\n",
    "        \n",
    "    plt.tight_layout()\n",
    "    plt.ylabel('True label')\n",
    "    plt.xlabel('Predicted label')"
   ]
  },
  {
   "cell_type": "code",
   "execution_count": 55,
   "id": "2c2e6875",
   "metadata": {},
   "outputs": [
    {
     "name": "stdout",
     "output_type": "stream",
     "text": [
      "Confusion matrix, without normalization\n"
     ]
    },
    {
     "data": {
      "image/png": "[encoded data removed]",
      "text/plain": [
       "<Figure size 432x288 with 2 Axes>"
      ]
     },
     "metadata": {
      "needs_background": "light"
     },
     "output_type": "display_data"
    }
   ],
   "source": [
    "plot_confusion_matrix(cm, list(categories));"
   ]
  },
  {
   "cell_type": "code",
   "execution_count": 56,
   "id": "dd3b2b43",
   "metadata": {},
   "outputs": [
    {
     "data": {
      "text/plain": [
       "1727"
      ]
     },
     "execution_count": 56,
     "metadata": {},
     "output_type": "execute_result"
    }
   ],
   "source": [
    "list(y_test).count(\"Program\")"
   ]
  },
  {
   "cell_type": "code",
   "execution_count": 57,
   "id": "4f1d38b6",
   "metadata": {},
   "outputs": [
    {
     "data": {
      "text/plain": [
       "3123"
      ]
     },
     "execution_count": 57,
     "metadata": {},
     "output_type": "execute_result"
    }
   ],
   "source": [
    "len(y_test)"
   ]
  },
  {
   "cell_type": "markdown",
   "id": "118f584d",
   "metadata": {},
   "source": [
    "## Pruebas"
   ]
  },
  {
   "cell_type": "code",
   "execution_count": 159,
   "id": "f85f2f24",
   "metadata": {},
   "outputs": [],
   "source": [
    "pruebas = [\"¡Tec de Monterrey Back to School with Julio Profe!\",\n",
    "          \"Tesla BTB program\",\n",
    "          \"Washoe.com digital campagin\",\n",
    "          \"60% off in Peso Pluma shirts this Black Friday\",\n",
    "          \"Starbucks sells experience/Search Program\",\n",
    "          \"AMG DoubleP August 2023 Email Campaign\",\n",
    "          \"Best Buy 2022 direct mail\",\n",
    "          \"Any other thing Program\",\n",
    "          \"Search and destroy\"]\n",
    "expected = [5, 6, 3, 4, 1, 8, 2, 0, 1]"
   ]
  },
  {
   "cell_type": "code",
   "execution_count": 160,
   "id": "fbf9e904",
   "metadata": {},
   "outputs": [],
   "source": [
    "pruebas_test = pd.Series(pruebas).apply(lambda x: preprocess_text(x, added_stopwords))"
   ]
  },
  {
   "cell_type": "code",
   "execution_count": 161,
   "id": "6e1db1c5",
   "metadata": {},
   "outputs": [
    {
     "data": {
      "text/plain": [
       "0               de monterrey back school julio\n",
       "1                            tesla btb program\n",
       "2                      washoe digital campagin\n",
       "3               peso pluma shirts black friday\n",
       "4    starbucks sells experience search program\n",
       "5                   amg doublep email campaign\n",
       "6                         best buy direct mail\n",
       "7                                thing program\n",
       "8                               search destroy\n",
       "dtype: object"
      ]
     },
     "execution_count": 161,
     "metadata": {},
     "output_type": "execute_result"
    }
   ],
   "source": [
    "pruebas_test"
   ]
  },
  {
   "cell_type": "code",
   "execution_count": 162,
   "id": "2423421b",
   "metadata": {},
   "outputs": [],
   "source": [
    "prueba_sequence = tokenizer.texts_to_sequences(pruebas_test)"
   ]
  },
  {
   "cell_type": "code",
   "execution_count": 163,
   "id": "668e8672",
   "metadata": {},
   "outputs": [],
   "source": [
    "pruebas_vect = pad_sequences(prueba_sequence, maxlen=max_length, padding=\"post\")"
   ]
  },
  {
   "cell_type": "code",
   "execution_count": 164,
   "id": "9624535f",
   "metadata": {},
   "outputs": [],
   "source": [
    "pruebas_pred = model.predict(x=pruebas_vect)"
   ]
  },
  {
   "cell_type": "code",
   "execution_count": 165,
   "id": "8bc926c9",
   "metadata": {},
   "outputs": [],
   "source": [
    "prp = list(np.argmax(pruebas_pred, axis=-1))"
   ]
  },
  {
   "cell_type": "code",
   "execution_count": 166,
   "id": "21412f27",
   "metadata": {},
   "outputs": [
    {
     "data": {
      "text/plain": [
       "{'Program': 0,\n",
       " 'Search': 1,\n",
       " 'Trad_media': 2,\n",
       " 'Digital': 3,\n",
       " 'Holiday': 4,\n",
       " 'BTS': 5,\n",
       " 'BTB': 6,\n",
       " 'Display': 7,\n",
       " 'Email': 8}"
      ]
     },
     "execution_count": 166,
     "metadata": {},
     "output_type": "execute_result"
    }
   ],
   "source": [
    "dic"
   ]
  },
  {
   "cell_type": "code",
   "execution_count": 167,
   "id": "ffe67ab4",
   "metadata": {},
   "outputs": [
    {
     "name": "stdout",
     "output_type": "stream",
     "text": [
      "Expected predictions: [5, 6, 3, 4, 1, 8, 2, 0, 1]\n",
      "Model predictions: [5, 6, 3, 4, 1, 8, 2, 0, 1]\n"
     ]
    }
   ],
   "source": [
    "print(\"Expected predictions: {}\".format(expected))\n",
    "print(\"Model predictions: {}\".format(prp))"
   ]
  },
  {
   "cell_type": "markdown",
   "id": "ce48b8da",
   "metadata": {},
   "source": [
    "## Llenar los UNKNOWN y Null values"
   ]
  },
  {
   "cell_type": "code",
   "execution_count": 356,
   "id": "348f1fc9",
   "metadata": {},
   "outputs": [],
   "source": [
    "df1_uk = pd.read_csv(\"MDF_US.csv\", usecols=[\"program_name\", \"activity_subtype\",\"activity_subtype_id\", \"reseller\"])\n",
    "df2_uk = pd.read_csv(\"aspcliamsdb_r_sptkpi.csv\",usecols=[\"program_name\", \"activity_subtype\",\"activity_subtype_id\",\"reseller\"])"
   ]
  },
  {
   "cell_type": "code",
   "execution_count": 357,
   "id": "c979e42b",
   "metadata": {},
   "outputs": [],
   "source": [
    "df1_uk = df1_uk[mask_unknown1]\n",
    "df2_uk = df2_uk[mask_unknown2]"
   ]
  },
  {
   "cell_type": "code",
   "execution_count": 358,
   "id": "88234b1e",
   "metadata": {},
   "outputs": [],
   "source": [
    "df_uk = pd.concat([df1_uk, df2_uk],ignore_index=True)"
   ]
  },
  {
   "cell_type": "code",
   "execution_count": 359,
   "id": "2426e72f",
   "metadata": {},
   "outputs": [
    {
     "data": {
      "text/plain": [
       "Amazon                    4378\n",
       "Best Buy                  3963\n",
       "New Age                   2177\n",
       "Microcenter               1076\n",
       "D&H                       1002\n",
       "Staples                    875\n",
       "Office Depot               738\n",
       "Target                     699\n",
       "Amazon Canada              283\n",
       "Aarons                     260\n",
       "Costco                     242\n",
       "Sams Club                  221\n",
       "Essendant                  191\n",
       "Microsoft                  158\n",
       "Wal-Mart                   156\n",
       "GameStop                   108\n",
       "Supplies Network            77\n",
       "Best Buy Canada             33\n",
       "Synnex Canada               32\n",
       "Staples Canada              22\n",
       "SP RICHARDS                 11\n",
       "Ingram Canada               11\n",
       "Synnex                       9\n",
       "WB Mason                     8\n",
       "Walmart                      5\n",
       "Costco Canada                3\n",
       "Archbrook Laguna (ABL)       2\n",
       "Name: reseller, dtype: int64"
      ]
     },
     "execution_count": 359,
     "metadata": {},
     "output_type": "execute_result"
    }
   ],
   "source": [
    "df_uk[\"reseller\"].value_counts()"
   ]
  },
  {
   "cell_type": "code",
   "execution_count": 360,
   "id": "63614da2",
   "metadata": {},
   "outputs": [
    {
     "data": {
      "text/html": [
       "<div>\n",
       "<style scoped>\n",
       "    .dataframe tbody tr th:only-of-type {\n",
       "        vertical-align: middle;\n",
       "    }\n",
       "\n",
       "    .dataframe tbody tr th {\n",
       "        vertical-align: top;\n",
       "    }\n",
       "\n",
       "    .dataframe thead th {\n",
       "        text-align: right;\n",
       "    }\n",
       "</style>\n",
       "<table border=\"1\" class=\"dataframe\">\n",
       "  <thead>\n",
       "    <tr style=\"text-align: right;\">\n",
       "      <th></th>\n",
       "      <th>program_name</th>\n",
       "      <th>reseller</th>\n",
       "      <th>activity_subtype</th>\n",
       "      <th>activity_subtype_id</th>\n",
       "    </tr>\n",
       "  </thead>\n",
       "  <tbody>\n",
       "    <tr>\n",
       "      <th>104</th>\n",
       "      <td>GameStop July Promo 03/07/2022 - 30/07/2022</td>\n",
       "      <td>GameStop</td>\n",
       "      <td>UNKNOWN</td>\n",
       "      <td>UNKNOWN</td>\n",
       "    </tr>\n",
       "    <tr>\n",
       "      <th>249</th>\n",
       "      <td>GAMESTOP Feb Promo 01-30 2022 - 02-26-2022</td>\n",
       "      <td>GameStop</td>\n",
       "      <td>UNKNOWN</td>\n",
       "      <td>UNKNOWN</td>\n",
       "    </tr>\n",
       "    <tr>\n",
       "      <th>393</th>\n",
       "      <td>GameStop July Promo 03/07/2022 - 30/07/2022\\t\\t</td>\n",
       "      <td>GameStop</td>\n",
       "      <td>UNKNOWN</td>\n",
       "      <td>UNKNOWN</td>\n",
       "    </tr>\n",
       "    <tr>\n",
       "      <th>428</th>\n",
       "      <td>GameStop July Promo 03/07/2022 - 30/07/2022\\t\\t</td>\n",
       "      <td>GameStop</td>\n",
       "      <td>UNKNOWN</td>\n",
       "      <td>UNKNOWN</td>\n",
       "    </tr>\n",
       "    <tr>\n",
       "      <th>440</th>\n",
       "      <td>GameStop July Promo 03/07/2022 - 30/07/2022</td>\n",
       "      <td>GameStop</td>\n",
       "      <td>UNKNOWN</td>\n",
       "      <td>UNKNOWN</td>\n",
       "    </tr>\n",
       "    <tr>\n",
       "      <th>...</th>\n",
       "      <td>...</td>\n",
       "      <td>...</td>\n",
       "      <td>...</td>\n",
       "      <td>...</td>\n",
       "    </tr>\n",
       "    <tr>\n",
       "      <th>16105</th>\n",
       "      <td>GameStop May Promo 01/05/2022 - 04/06/2022</td>\n",
       "      <td>GameStop</td>\n",
       "      <td>UNKNOWN</td>\n",
       "      <td>UNKNOWN</td>\n",
       "    </tr>\n",
       "    <tr>\n",
       "      <th>16269</th>\n",
       "      <td>GameStop July Promo 03/07/2022 - 30/07/2022\\t\\t</td>\n",
       "      <td>GameStop</td>\n",
       "      <td>UNKNOWN</td>\n",
       "      <td>UNKNOWN</td>\n",
       "    </tr>\n",
       "    <tr>\n",
       "      <th>16288</th>\n",
       "      <td>GameStop May Promo 01/05/2022 - 04/06/2022</td>\n",
       "      <td>GameStop</td>\n",
       "      <td>UNKNOWN</td>\n",
       "      <td>UNKNOWN</td>\n",
       "    </tr>\n",
       "    <tr>\n",
       "      <th>16321</th>\n",
       "      <td>GameStop July Promo 03/07/2022 - 30/07/2022\\t\\t</td>\n",
       "      <td>GameStop</td>\n",
       "      <td>UNKNOWN</td>\n",
       "      <td>UNKNOWN</td>\n",
       "    </tr>\n",
       "    <tr>\n",
       "      <th>16444</th>\n",
       "      <td>GameStop April Promo 03/04/2022 - 30/04/2022</td>\n",
       "      <td>GameStop</td>\n",
       "      <td>UNKNOWN</td>\n",
       "      <td>UNKNOWN</td>\n",
       "    </tr>\n",
       "  </tbody>\n",
       "</table>\n",
       "<p>108 rows × 4 columns</p>\n",
       "</div>"
      ],
      "text/plain": [
       "                                          program_name  reseller  \\\n",
       "104        GameStop July Promo 03/07/2022 - 30/07/2022  GameStop   \n",
       "249         GAMESTOP Feb Promo 01-30 2022 - 02-26-2022  GameStop   \n",
       "393    GameStop July Promo 03/07/2022 - 30/07/2022\\t\\t  GameStop   \n",
       "428    GameStop July Promo 03/07/2022 - 30/07/2022\\t\\t  GameStop   \n",
       "440        GameStop July Promo 03/07/2022 - 30/07/2022  GameStop   \n",
       "...                                                ...       ...   \n",
       "16105       GameStop May Promo 01/05/2022 - 04/06/2022  GameStop   \n",
       "16269  GameStop July Promo 03/07/2022 - 30/07/2022\\t\\t  GameStop   \n",
       "16288       GameStop May Promo 01/05/2022 - 04/06/2022  GameStop   \n",
       "16321  GameStop July Promo 03/07/2022 - 30/07/2022\\t\\t  GameStop   \n",
       "16444     GameStop April Promo 03/04/2022 - 30/04/2022  GameStop   \n",
       "\n",
       "      activity_subtype activity_subtype_id  \n",
       "104            UNKNOWN             UNKNOWN  \n",
       "249            UNKNOWN             UNKNOWN  \n",
       "393            UNKNOWN             UNKNOWN  \n",
       "428            UNKNOWN             UNKNOWN  \n",
       "440            UNKNOWN             UNKNOWN  \n",
       "...                ...                 ...  \n",
       "16105          UNKNOWN             UNKNOWN  \n",
       "16269          UNKNOWN             UNKNOWN  \n",
       "16288          UNKNOWN             UNKNOWN  \n",
       "16321          UNKNOWN             UNKNOWN  \n",
       "16444          UNKNOWN             UNKNOWN  \n",
       "\n",
       "[108 rows x 4 columns]"
      ]
     },
     "execution_count": 360,
     "metadata": {},
     "output_type": "execute_result"
    }
   ],
   "source": [
    "df_uk[df_uk[\"reseller\"] == \"GameStop\"]"
   ]
  },
  {
   "cell_type": "markdown",
   "id": "a775ae1a",
   "metadata": {},
   "source": [
    "Now that we have the unknown DataFrame, we can clean it"
   ]
  },
  {
   "cell_type": "code",
   "execution_count": 361,
   "id": "0b4a429d",
   "metadata": {},
   "outputs": [],
   "source": [
    "mask_null = df_uk[\"program_name\"].isna()"
   ]
  },
  {
   "cell_type": "code",
   "execution_count": 362,
   "id": "0b84870d",
   "metadata": {},
   "outputs": [],
   "source": [
    "df_uk = df_uk[~mask_null].reset_index() # take away all rows with null values in program_name"
   ]
  },
  {
   "cell_type": "markdown",
   "id": "bf609da9",
   "metadata": {},
   "source": [
    "Now we can do the predictions"
   ]
  },
  {
   "cell_type": "code",
   "execution_count": 363,
   "id": "3e4579df",
   "metadata": {},
   "outputs": [],
   "source": [
    "clean_uk = df_uk[\"program_name\"].apply(lambda x: preprocess_text(x, added_stopwords))"
   ]
  },
  {
   "cell_type": "code",
   "execution_count": 364,
   "id": "ca80d1cb",
   "metadata": {},
   "outputs": [],
   "source": [
    "uk_sequence = tokenizer.texts_to_sequences(clean_uk)"
   ]
  },
  {
   "cell_type": "code",
   "execution_count": 365,
   "id": "be8c1d4e",
   "metadata": {},
   "outputs": [],
   "source": [
    "uk_vect = pad_sequences(uk_sequence, maxlen=max_length, padding=\"post\")"
   ]
  },
  {
   "cell_type": "code",
   "execution_count": 366,
   "id": "9819b12a",
   "metadata": {},
   "outputs": [],
   "source": [
    "uk_pred = model.predict(x=uk_vect)"
   ]
  },
  {
   "cell_type": "code",
   "execution_count": 367,
   "id": "9178f70e",
   "metadata": {},
   "outputs": [],
   "source": [
    "prp_uk = list(np.argmax(uk_pred, axis=-1))"
   ]
  },
  {
   "cell_type": "markdown",
   "id": "d90d02e7",
   "metadata": {},
   "source": [
    "We have the predictions, now we have to change them to the names"
   ]
  },
  {
   "cell_type": "code",
   "execution_count": 368,
   "id": "921cf3fe",
   "metadata": {},
   "outputs": [],
   "source": [
    "dic2 = {list(dic.values())[i]: list(dic.keys())[i] for i in range(len(dic))}"
   ]
  },
  {
   "cell_type": "code",
   "execution_count": 369,
   "id": "e61ead33",
   "metadata": {},
   "outputs": [
    {
     "data": {
      "text/plain": [
       "{0: 'Program',\n",
       " 1: 'Search',\n",
       " 2: 'Trad_media',\n",
       " 3: 'Digital',\n",
       " 4: 'Holiday',\n",
       " 5: 'BTS',\n",
       " 6: 'BTB',\n",
       " 7: 'Display',\n",
       " 8: 'Email'}"
      ]
     },
     "execution_count": 369,
     "metadata": {},
     "output_type": "execute_result"
    }
   ],
   "source": [
    "dic2"
   ]
  },
  {
   "cell_type": "code",
   "execution_count": 370,
   "id": "69bf2101",
   "metadata": {},
   "outputs": [],
   "source": [
    "predictions_uk = [dic2[i] for i in prp_uk]"
   ]
  },
  {
   "cell_type": "code",
   "execution_count": 371,
   "id": "c0670b1e",
   "metadata": {},
   "outputs": [],
   "source": [
    "df_uk[\"activity_subtype\"] = predictions_uk"
   ]
  },
  {
   "cell_type": "code",
   "execution_count": 372,
   "id": "433088b6",
   "metadata": {},
   "outputs": [
    {
     "data": {
      "text/plain": [
       "Program       11608\n",
       "Display        4037\n",
       "BTB             670\n",
       "Search          230\n",
       "Trad_media       95\n",
       "BTS              42\n",
       "Holiday          35\n",
       "Email            21\n",
       "Digital           1\n",
       "Name: activity_subtype, dtype: int64"
      ]
     },
     "execution_count": 372,
     "metadata": {},
     "output_type": "execute_result"
    }
   ],
   "source": [
    "df_uk[\"activity_subtype\"].value_counts()"
   ]
  },
  {
   "cell_type": "code",
   "execution_count": 373,
   "id": "b1f44b1f",
   "metadata": {},
   "outputs": [
    {
     "data": {
      "text/plain": [
       "1050           Email advertising support in Q221 \n",
       "1810            Email advertising support in Q320\n",
       "1956           Email advertising support in Q420 \n",
       "2053           Email advertising support in Q421 \n",
       "2570           Email advertising support in Q321 \n",
       "2572        Q2 2020 CRM email advertising support\n",
       "5438            Email advertising support in Q321\n",
       "5500            Email advertising support in Q121\n",
       "5859            Email advertising support in Q120\n",
       "6576            Email advertising support in Q322\n",
       "7253        Q2 2020 CRM email advertising support\n",
       "7625            Email advertising support in Q320\n",
       "7809           Email advertising support in Q420 \n",
       "8017           Email advertising support in Q221 \n",
       "11726          Email advertising support in Q421 \n",
       "11811    Email Ad Support for January toner offer\n",
       "13803                    Quill Laserjet NPI Email\n",
       "13959       Email Ad Support for January Ink BOGO\n",
       "14039          Email advertising support in Q222 \n",
       "14771          Email advertising support in Q321 \n",
       "15290           Email advertising support in Q122\n",
       "Name: program_name, dtype: object"
      ]
     },
     "execution_count": 373,
     "metadata": {},
     "output_type": "execute_result"
    }
   ],
   "source": [
    "df_uk[df_uk[\"activity_subtype\"] == \"Email\"][\"program_name\"]# This is the final DataFrame"
   ]
  },
  {
   "cell_type": "code",
   "execution_count": 374,
   "id": "47e42aa4",
   "metadata": {},
   "outputs": [
    {
     "data": {
      "text/plain": [
       "14271    BBY Digital Insert to support Instant Ink\n",
       "Name: program_name, dtype: object"
      ]
     },
     "execution_count": 374,
     "metadata": {},
     "output_type": "execute_result"
    }
   ],
   "source": [
    "df_uk[df_uk[\"activity_subtype\"] == \"Digital\"][\"program_name\"]# This is the final DataFrame"
   ]
  },
  {
   "cell_type": "code",
   "execution_count": 375,
   "id": "6b2ba375",
   "metadata": {},
   "outputs": [
    {
     "data": {
      "text/plain": [
       "95               BBY Holiday Leadership Meeting - Training\n",
       "178             HP+ New Products monetization prg may/june\n",
       "852             CP – D&H Holding Cost – Q3 Pull-in for HOL\n",
       "919           D&H Holiday '21/Spring '22 Meet Comp Support\n",
       "1518                    Staples Early Reviews - New Inkjet\n",
       "1552                        Gift CardsOctober-December2022\n",
       "1860              New Age / Newegg 2C22 Ad Support Program\n",
       "2281            HP+ New Products monetization prg may/june\n",
       "2593     Micro Center Q123 AMD Holiday Support AMD-AMS-...\n",
       "2854                        Gift CardsOctober-December2022\n",
       "3948              New Age / Newegg 2C22 Ad Support Program\n",
       "3968                        Gift CardsOctober-December2022\n",
       "4860                    Staples Early Reviews - New Inkjet\n",
       "6091     Micro Center Q123 AMD Holiday Support AMD-AMS-...\n",
       "6274                 HP+ New Products monetization program\n",
       "6931            HP+ New Products monetization prg may/june\n",
       "7325                    Staples Early Reviews - New Inkjet\n",
       "8619                    Staples Early Reviews - New Inkjet\n",
       "8992                        Gift CardsOctober-December2022\n",
       "9466            HP+ New Products monetization prg may/june\n",
       "9587              New Age / Newegg 2C22 Ad Support Program\n",
       "9902                        Gift CardsOctober-December2022\n",
       "10047                HP+ New Products monetization program\n",
       "10246             New Age / Newegg 2C22 Ad Support Program\n",
       "11993                       Gift CardsOctober-December2022\n",
       "12752           CP – D&H Holding Cost – Q3 Pull-in for HOL\n",
       "13100            BBY Holiday Leadership Meeting - Training\n",
       "13208           HP+ New Products monetization prg may/june\n",
       "13780                HP+ New Products monetization program\n",
       "14080         D&H Holiday '21/Spring '22 Meet Comp Support\n",
       "14870             New Age / Newegg 2C22 Ad Support Program\n",
       "15249           CP – D&H Holding Cost – Q3 Pull-in for HOL\n",
       "15976                       Gift CardsOctober-December2022\n",
       "16386                       Gift CardsOctober-December2022\n",
       "16473             New Age / Newegg 2C22 Ad Support Program\n",
       "Name: program_name, dtype: object"
      ]
     },
     "execution_count": 375,
     "metadata": {},
     "output_type": "execute_result"
    }
   ],
   "source": [
    "df_uk[df_uk[\"activity_subtype\"] == \"Holiday\"][\"program_name\"]"
   ]
  },
  {
   "cell_type": "code",
   "execution_count": null,
   "id": "d779ec9d",
   "metadata": {},
   "outputs": [],
   "source": []
  },
  {
   "cell_type": "code",
   "execution_count": 411,
   "id": "40b531ab",
   "metadata": {},
   "outputs": [
    {
     "data": {
      "text/plain": [
       "True"
      ]
     },
     "execution_count": 411,
     "metadata": {},
     "output_type": "execute_result"
    }
   ],
   "source": [
    "\"new\" in list(df_features[df_features[\"y\"] == \"Holiday\"][\"feature\"])"
   ]
  },
  {
   "cell_type": "code",
   "execution_count": 385,
   "id": "bfb5d558",
   "metadata": {},
   "outputs": [
    {
     "data": {
      "text/html": [
       "<div>\n",
       "<style scoped>\n",
       "    .dataframe tbody tr th:only-of-type {\n",
       "        vertical-align: middle;\n",
       "    }\n",
       "\n",
       "    .dataframe tbody tr th {\n",
       "        vertical-align: top;\n",
       "    }\n",
       "\n",
       "    .dataframe thead th {\n",
       "        text-align: right;\n",
       "    }\n",
       "</style>\n",
       "<table border=\"1\" class=\"dataframe\">\n",
       "  <thead>\n",
       "    <tr style=\"text-align: right;\">\n",
       "      <th></th>\n",
       "      <th>index</th>\n",
       "      <th>program_name</th>\n",
       "      <th>reseller</th>\n",
       "      <th>activity_subtype</th>\n",
       "      <th>activity_subtype_id</th>\n",
       "    </tr>\n",
       "  </thead>\n",
       "  <tbody>\n",
       "    <tr>\n",
       "      <th>95</th>\n",
       "      <td>99</td>\n",
       "      <td>BBY Holiday Leadership Meeting - Training</td>\n",
       "      <td>Best Buy</td>\n",
       "      <td>Holiday</td>\n",
       "      <td>NaN</td>\n",
       "    </tr>\n",
       "    <tr>\n",
       "      <th>178</th>\n",
       "      <td>184</td>\n",
       "      <td>HP+ New Products monetization prg may/june</td>\n",
       "      <td>Office Depot</td>\n",
       "      <td>Holiday</td>\n",
       "      <td>NaN</td>\n",
       "    </tr>\n",
       "    <tr>\n",
       "      <th>852</th>\n",
       "      <td>873</td>\n",
       "      <td>CP – D&amp;H Holding Cost – Q3 Pull-in for HOL</td>\n",
       "      <td>D&amp;H</td>\n",
       "      <td>Holiday</td>\n",
       "      <td>UNKNOWN</td>\n",
       "    </tr>\n",
       "    <tr>\n",
       "      <th>919</th>\n",
       "      <td>942</td>\n",
       "      <td>D&amp;H Holiday '21/Spring '22 Meet Comp Support</td>\n",
       "      <td>D&amp;H</td>\n",
       "      <td>Holiday</td>\n",
       "      <td>NaN</td>\n",
       "    </tr>\n",
       "    <tr>\n",
       "      <th>1518</th>\n",
       "      <td>1550</td>\n",
       "      <td>Staples Early Reviews - New Inkjet</td>\n",
       "      <td>Staples</td>\n",
       "      <td>Holiday</td>\n",
       "      <td>NaN</td>\n",
       "    </tr>\n",
       "    <tr>\n",
       "      <th>1552</th>\n",
       "      <td>1584</td>\n",
       "      <td>Gift CardsOctober-December2022</td>\n",
       "      <td>Target</td>\n",
       "      <td>Holiday</td>\n",
       "      <td>UNKNOWN</td>\n",
       "    </tr>\n",
       "    <tr>\n",
       "      <th>1860</th>\n",
       "      <td>1899</td>\n",
       "      <td>New Age / Newegg 2C22 Ad Support Program</td>\n",
       "      <td>New Age</td>\n",
       "      <td>Holiday</td>\n",
       "      <td>NaN</td>\n",
       "    </tr>\n",
       "    <tr>\n",
       "      <th>2281</th>\n",
       "      <td>2333</td>\n",
       "      <td>HP+ New Products monetization prg may/june</td>\n",
       "      <td>Office Depot</td>\n",
       "      <td>Holiday</td>\n",
       "      <td>NaN</td>\n",
       "    </tr>\n",
       "    <tr>\n",
       "      <th>2593</th>\n",
       "      <td>2651</td>\n",
       "      <td>Micro Center Q123 AMD Holiday Support AMD-AMS-...</td>\n",
       "      <td>Microcenter</td>\n",
       "      <td>Holiday</td>\n",
       "      <td>NaN</td>\n",
       "    </tr>\n",
       "    <tr>\n",
       "      <th>2854</th>\n",
       "      <td>2915</td>\n",
       "      <td>Gift CardsOctober-December2022</td>\n",
       "      <td>Target</td>\n",
       "      <td>Holiday</td>\n",
       "      <td>UNKNOWN</td>\n",
       "    </tr>\n",
       "    <tr>\n",
       "      <th>3948</th>\n",
       "      <td>4036</td>\n",
       "      <td>New Age / Newegg 2C22 Ad Support Program</td>\n",
       "      <td>New Age</td>\n",
       "      <td>Holiday</td>\n",
       "      <td>NaN</td>\n",
       "    </tr>\n",
       "    <tr>\n",
       "      <th>3968</th>\n",
       "      <td>4056</td>\n",
       "      <td>Gift CardsOctober-December2022</td>\n",
       "      <td>Target</td>\n",
       "      <td>Holiday</td>\n",
       "      <td>UNKNOWN</td>\n",
       "    </tr>\n",
       "    <tr>\n",
       "      <th>4860</th>\n",
       "      <td>4970</td>\n",
       "      <td>Staples Early Reviews - New Inkjet</td>\n",
       "      <td>Staples</td>\n",
       "      <td>Holiday</td>\n",
       "      <td>NaN</td>\n",
       "    </tr>\n",
       "    <tr>\n",
       "      <th>6091</th>\n",
       "      <td>6228</td>\n",
       "      <td>Micro Center Q123 AMD Holiday Support AMD-AMS-...</td>\n",
       "      <td>Microcenter</td>\n",
       "      <td>Holiday</td>\n",
       "      <td>NaN</td>\n",
       "    </tr>\n",
       "    <tr>\n",
       "      <th>6274</th>\n",
       "      <td>6414</td>\n",
       "      <td>HP+ New Products monetization program</td>\n",
       "      <td>Office Depot</td>\n",
       "      <td>Holiday</td>\n",
       "      <td>NaN</td>\n",
       "    </tr>\n",
       "    <tr>\n",
       "      <th>6931</th>\n",
       "      <td>7087</td>\n",
       "      <td>HP+ New Products monetization prg may/june</td>\n",
       "      <td>Office Depot</td>\n",
       "      <td>Holiday</td>\n",
       "      <td>NaN</td>\n",
       "    </tr>\n",
       "    <tr>\n",
       "      <th>7325</th>\n",
       "      <td>7486</td>\n",
       "      <td>Staples Early Reviews - New Inkjet</td>\n",
       "      <td>Staples</td>\n",
       "      <td>Holiday</td>\n",
       "      <td>NaN</td>\n",
       "    </tr>\n",
       "    <tr>\n",
       "      <th>8619</th>\n",
       "      <td>8803</td>\n",
       "      <td>Staples Early Reviews - New Inkjet</td>\n",
       "      <td>Staples</td>\n",
       "      <td>Holiday</td>\n",
       "      <td>NaN</td>\n",
       "    </tr>\n",
       "    <tr>\n",
       "      <th>8992</th>\n",
       "      <td>9181</td>\n",
       "      <td>Gift CardsOctober-December2022</td>\n",
       "      <td>Target</td>\n",
       "      <td>Holiday</td>\n",
       "      <td>UNKNOWN</td>\n",
       "    </tr>\n",
       "    <tr>\n",
       "      <th>9466</th>\n",
       "      <td>9665</td>\n",
       "      <td>HP+ New Products monetization prg may/june</td>\n",
       "      <td>Office Depot</td>\n",
       "      <td>Holiday</td>\n",
       "      <td>NaN</td>\n",
       "    </tr>\n",
       "    <tr>\n",
       "      <th>9587</th>\n",
       "      <td>9789</td>\n",
       "      <td>New Age / Newegg 2C22 Ad Support Program</td>\n",
       "      <td>New Age</td>\n",
       "      <td>Holiday</td>\n",
       "      <td>NaN</td>\n",
       "    </tr>\n",
       "    <tr>\n",
       "      <th>9902</th>\n",
       "      <td>10108</td>\n",
       "      <td>Gift CardsOctober-December2022</td>\n",
       "      <td>Target</td>\n",
       "      <td>Holiday</td>\n",
       "      <td>UNKNOWN</td>\n",
       "    </tr>\n",
       "    <tr>\n",
       "      <th>10047</th>\n",
       "      <td>10256</td>\n",
       "      <td>HP+ New Products monetization program</td>\n",
       "      <td>Office Depot</td>\n",
       "      <td>Holiday</td>\n",
       "      <td>NaN</td>\n",
       "    </tr>\n",
       "    <tr>\n",
       "      <th>10246</th>\n",
       "      <td>10460</td>\n",
       "      <td>New Age / Newegg 2C22 Ad Support Program</td>\n",
       "      <td>New Age</td>\n",
       "      <td>Holiday</td>\n",
       "      <td>NaN</td>\n",
       "    </tr>\n",
       "    <tr>\n",
       "      <th>11993</th>\n",
       "      <td>12246</td>\n",
       "      <td>Gift CardsOctober-December2022</td>\n",
       "      <td>Target</td>\n",
       "      <td>Holiday</td>\n",
       "      <td>UNKNOWN</td>\n",
       "    </tr>\n",
       "    <tr>\n",
       "      <th>12752</th>\n",
       "      <td>13016</td>\n",
       "      <td>CP – D&amp;H Holding Cost – Q3 Pull-in for HOL</td>\n",
       "      <td>D&amp;H</td>\n",
       "      <td>Holiday</td>\n",
       "      <td>UNKNOWN</td>\n",
       "    </tr>\n",
       "    <tr>\n",
       "      <th>13100</th>\n",
       "      <td>13372</td>\n",
       "      <td>BBY Holiday Leadership Meeting - Training</td>\n",
       "      <td>Best Buy</td>\n",
       "      <td>Holiday</td>\n",
       "      <td>NaN</td>\n",
       "    </tr>\n",
       "    <tr>\n",
       "      <th>13208</th>\n",
       "      <td>13484</td>\n",
       "      <td>HP+ New Products monetization prg may/june</td>\n",
       "      <td>Office Depot</td>\n",
       "      <td>Holiday</td>\n",
       "      <td>NaN</td>\n",
       "    </tr>\n",
       "    <tr>\n",
       "      <th>13780</th>\n",
       "      <td>14064</td>\n",
       "      <td>HP+ New Products monetization program</td>\n",
       "      <td>Office Depot</td>\n",
       "      <td>Holiday</td>\n",
       "      <td>NaN</td>\n",
       "    </tr>\n",
       "    <tr>\n",
       "      <th>14080</th>\n",
       "      <td>14370</td>\n",
       "      <td>D&amp;H Holiday '21/Spring '22 Meet Comp Support</td>\n",
       "      <td>D&amp;H</td>\n",
       "      <td>Holiday</td>\n",
       "      <td>NaN</td>\n",
       "    </tr>\n",
       "    <tr>\n",
       "      <th>14870</th>\n",
       "      <td>15173</td>\n",
       "      <td>New Age / Newegg 2C22 Ad Support Program</td>\n",
       "      <td>New Age</td>\n",
       "      <td>Holiday</td>\n",
       "      <td>NaN</td>\n",
       "    </tr>\n",
       "    <tr>\n",
       "      <th>15249</th>\n",
       "      <td>15562</td>\n",
       "      <td>CP – D&amp;H Holding Cost – Q3 Pull-in for HOL</td>\n",
       "      <td>D&amp;H</td>\n",
       "      <td>Holiday</td>\n",
       "      <td>UNKNOWN</td>\n",
       "    </tr>\n",
       "    <tr>\n",
       "      <th>15976</th>\n",
       "      <td>16310</td>\n",
       "      <td>Gift CardsOctober-December2022</td>\n",
       "      <td>Target</td>\n",
       "      <td>Holiday</td>\n",
       "      <td>UNKNOWN</td>\n",
       "    </tr>\n",
       "    <tr>\n",
       "      <th>16386</th>\n",
       "      <td>16734</td>\n",
       "      <td>Gift CardsOctober-December2022</td>\n",
       "      <td>Target</td>\n",
       "      <td>Holiday</td>\n",
       "      <td>UNKNOWN</td>\n",
       "    </tr>\n",
       "    <tr>\n",
       "      <th>16473</th>\n",
       "      <td>16825</td>\n",
       "      <td>New Age / Newegg 2C22 Ad Support Program</td>\n",
       "      <td>New Age</td>\n",
       "      <td>Holiday</td>\n",
       "      <td>NaN</td>\n",
       "    </tr>\n",
       "  </tbody>\n",
       "</table>\n",
       "</div>"
      ],
      "text/plain": [
       "       index                                       program_name      reseller  \\\n",
       "95        99          BBY Holiday Leadership Meeting - Training      Best Buy   \n",
       "178      184         HP+ New Products monetization prg may/june  Office Depot   \n",
       "852      873         CP – D&H Holding Cost – Q3 Pull-in for HOL           D&H   \n",
       "919      942       D&H Holiday '21/Spring '22 Meet Comp Support           D&H   \n",
       "1518    1550                 Staples Early Reviews - New Inkjet       Staples   \n",
       "1552    1584                     Gift CardsOctober-December2022        Target   \n",
       "1860    1899           New Age / Newegg 2C22 Ad Support Program       New Age   \n",
       "2281    2333         HP+ New Products monetization prg may/june  Office Depot   \n",
       "2593    2651  Micro Center Q123 AMD Holiday Support AMD-AMS-...   Microcenter   \n",
       "2854    2915                     Gift CardsOctober-December2022        Target   \n",
       "3948    4036           New Age / Newegg 2C22 Ad Support Program       New Age   \n",
       "3968    4056                     Gift CardsOctober-December2022        Target   \n",
       "4860    4970                 Staples Early Reviews - New Inkjet       Staples   \n",
       "6091    6228  Micro Center Q123 AMD Holiday Support AMD-AMS-...   Microcenter   \n",
       "6274    6414              HP+ New Products monetization program  Office Depot   \n",
       "6931    7087         HP+ New Products monetization prg may/june  Office Depot   \n",
       "7325    7486                 Staples Early Reviews - New Inkjet       Staples   \n",
       "8619    8803                 Staples Early Reviews - New Inkjet       Staples   \n",
       "8992    9181                     Gift CardsOctober-December2022        Target   \n",
       "9466    9665         HP+ New Products monetization prg may/june  Office Depot   \n",
       "9587    9789           New Age / Newegg 2C22 Ad Support Program       New Age   \n",
       "9902   10108                     Gift CardsOctober-December2022        Target   \n",
       "10047  10256              HP+ New Products monetization program  Office Depot   \n",
       "10246  10460           New Age / Newegg 2C22 Ad Support Program       New Age   \n",
       "11993  12246                     Gift CardsOctober-December2022        Target   \n",
       "12752  13016         CP – D&H Holding Cost – Q3 Pull-in for HOL           D&H   \n",
       "13100  13372          BBY Holiday Leadership Meeting - Training      Best Buy   \n",
       "13208  13484         HP+ New Products monetization prg may/june  Office Depot   \n",
       "13780  14064              HP+ New Products monetization program  Office Depot   \n",
       "14080  14370       D&H Holiday '21/Spring '22 Meet Comp Support           D&H   \n",
       "14870  15173           New Age / Newegg 2C22 Ad Support Program       New Age   \n",
       "15249  15562         CP – D&H Holding Cost – Q3 Pull-in for HOL           D&H   \n",
       "15976  16310                     Gift CardsOctober-December2022        Target   \n",
       "16386  16734                     Gift CardsOctober-December2022        Target   \n",
       "16473  16825           New Age / Newegg 2C22 Ad Support Program       New Age   \n",
       "\n",
       "      activity_subtype activity_subtype_id  \n",
       "95             Holiday                 NaN  \n",
       "178            Holiday                 NaN  \n",
       "852            Holiday             UNKNOWN  \n",
       "919            Holiday                 NaN  \n",
       "1518           Holiday                 NaN  \n",
       "1552           Holiday             UNKNOWN  \n",
       "1860           Holiday                 NaN  \n",
       "2281           Holiday                 NaN  \n",
       "2593           Holiday                 NaN  \n",
       "2854           Holiday             UNKNOWN  \n",
       "3948           Holiday                 NaN  \n",
       "3968           Holiday             UNKNOWN  \n",
       "4860           Holiday                 NaN  \n",
       "6091           Holiday                 NaN  \n",
       "6274           Holiday                 NaN  \n",
       "6931           Holiday                 NaN  \n",
       "7325           Holiday                 NaN  \n",
       "8619           Holiday                 NaN  \n",
       "8992           Holiday             UNKNOWN  \n",
       "9466           Holiday                 NaN  \n",
       "9587           Holiday                 NaN  \n",
       "9902           Holiday             UNKNOWN  \n",
       "10047          Holiday                 NaN  \n",
       "10246          Holiday                 NaN  \n",
       "11993          Holiday             UNKNOWN  \n",
       "12752          Holiday             UNKNOWN  \n",
       "13100          Holiday                 NaN  \n",
       "13208          Holiday                 NaN  \n",
       "13780          Holiday                 NaN  \n",
       "14080          Holiday                 NaN  \n",
       "14870          Holiday                 NaN  \n",
       "15249          Holiday             UNKNOWN  \n",
       "15976          Holiday             UNKNOWN  \n",
       "16386          Holiday             UNKNOWN  \n",
       "16473          Holiday                 NaN  "
      ]
     },
     "execution_count": 385,
     "metadata": {},
     "output_type": "execute_result"
    }
   ],
   "source": [
    "df_uk[df_uk[\"activity_subtype\"] == \"Holiday\"]"
   ]
  },
  {
   "cell_type": "code",
   "execution_count": 394,
   "id": "8f8ccdaf",
   "metadata": {},
   "outputs": [
    {
     "data": {
      "text/plain": [
       "'new products monetization prg'"
      ]
     },
     "execution_count": 394,
     "metadata": {},
     "output_type": "execute_result"
    }
   ],
   "source": [
    "clean_uk[178]"
   ]
  },
  {
   "cell_type": "code",
   "execution_count": 399,
   "id": "f07265a6",
   "metadata": {},
   "outputs": [
    {
     "data": {
      "text/plain": [
       "1                       Target May Promo 5/1/2022-6/4/2022\n",
       "5              Margin Enhancement Program FY'21-H2 Sep-Nov\n",
       "12             Margin Enhancement Program FY'20-H2 Dec-Feb\n",
       "24                            Amazon - October 2022 Promos\n",
       "25                            Amazon - October 2022 Promos\n",
       "                               ...                        \n",
       "16730    Costco_Costco.com July 2021 - Apr 2022 Margin ...\n",
       "16732    Costco_Costco.com July 2021 - Apr 2022 Margin ...\n",
       "16735    Costco_Costco.com July 2021 - Apr 2022 Margin ...\n",
       "16737    Costco_Costco.com July 2021 - Apr 2022 Margin ...\n",
       "16738    Costco_Costco.com July 2021 - Apr 2022 Margin ...\n",
       "Name: program_name, Length: 4037, dtype: object"
      ]
     },
     "execution_count": 399,
     "metadata": {},
     "output_type": "execute_result"
    }
   ],
   "source": [
    "df_uk[df_uk[\"activity_subtype\"] == \"Display\"][\"program_name\"]"
   ]
  },
  {
   "cell_type": "code",
   "execution_count": 404,
   "id": "5dcb21bf",
   "metadata": {},
   "outputs": [
    {
     "data": {
      "text/plain": [
       "True"
      ]
     },
     "execution_count": 404,
     "metadata": {},
     "output_type": "execute_result"
    }
   ],
   "source": [
    "\"margin\" in list(df_features[df_features[\"y\"] == \"Display\"][\"feature\"])"
   ]
  },
  {
   "cell_type": "code",
   "execution_count": null,
   "id": "8d22e024",
   "metadata": {},
   "outputs": [],
   "source": []
  }
 ],
 "metadata": {
  "kernelspec": {
   "display_name": "Python 3",
   "language": "python",
   "name": "python3"
  },
  "language_info": {
   "codemirror_mode": {
    "name": "ipython",
    "version": 3
   },
   "file_extension": ".py",
   "mimetype": "text/x-python",
   "name": "python",
   "nbconvert_exporter": "python",
   "pygments_lexer": "ipython3",
   "version": "3.7.16"
  }
 },
 "nbformat": 4,
 "nbformat_minor": 5
}
